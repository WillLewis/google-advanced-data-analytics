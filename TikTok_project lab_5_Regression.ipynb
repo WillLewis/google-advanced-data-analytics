{
 "cells": [
  {
   "cell_type": "markdown",
   "metadata": {
    "id": "DtNBZFHO3M7n"
   },
   "source": [
    "# **TikTok Project**\n",
    "**Course 5 - Regression Analysis: Simplify complex data relationships**"
   ]
  },
  {
   "cell_type": "markdown",
   "metadata": {
    "id": "Gd59VyT2NhgK"
   },
   "source": [
    "You are a data professional at TikTok. The data team is working towards building a machine learning model that can be used to determine whether a video contains a claim or whether it offers an opinion. With a successful prediction model, TikTok can reduce the backlog of user reports and prioritize them more efficiently.\n",
    "\n",
    "The team is getting closer to completing the project, having completed an initial plan of action, initial Python coding work, EDA, and hypothesis testing.\n",
    "\n",
    "The TikTok team has reviewed the results of the hypothesis testing. TikTok’s Operations Lead, Maika Abadi, is interested in how different variables are associated with whether a user is verified. Earlier, the data team observed that if a user is verified, they are much more likely to post opinions. Now, the data team has decided to explore how to predict verified status to help them understand how video characteristics relate to verified users. Therefore, you have been asked to conduct a logistic regression using verified status as the outcome variable. The results may be used to inform the final model related to predicting whether a video is a claim vs an opinion.\n",
    "\n",
    "A notebook was structured and prepared to help you in this project. Please complete the following questions."
   ]
  },
  {
   "cell_type": "markdown",
   "metadata": {
    "id": "rgSbVJvomcVa"
   },
   "source": [
    "# **Course 5 End-of-course project: Regression modeling**\n",
    "\n",
    "\n",
    "In this activity, you will build a logistic regression model in Python. As you have learned, logistic regression helps you estimate the probability of an outcome. For data science professionals, this is a useful skill because it allows you to consider more than one variable against the variable you're measuring against. This opens the door for much more thorough and flexible analysis to be completed.\n",
    "\n",
    "<br/>\n",
    "\n",
    "**The purpose** of this project is to demostrate knowledge of EDA and regression models.\n",
    "\n",
    "**The goal** is to build a logistic regression model and evaluate the model.\n",
    "<br/>\n",
    "*This activity has three parts:*\n",
    "\n",
    "**Part 1:** EDA & Checking Model Assumptions\n",
    "* What are some purposes of EDA before constructing a logistic regression model?\n",
    "\n",
    "**Part 2:** Model Building and Evaluation\n",
    "* What resources do you find yourself using as you complete this stage?\n",
    "\n",
    "**Part 3:** Interpreting Model Results\n",
    "\n",
    "* What key insights emerged from your model(s)?\n",
    "\n",
    "* What business recommendations do you propose based on the models built?\n",
    "\n",
    "Follow the instructions and answer the question below to complete the activity. Then, you will complete an executive summary using the questions listed on the PACE Strategy Document.\n",
    "\n",
    "Be sure to complete this activity before moving on. The next course item will provide you with a completed exemplar to compare to your own work.\n"
   ]
  },
  {
   "cell_type": "markdown",
   "metadata": {
    "id": "7KFOyc3JPSiN"
   },
   "source": [
    "# **Build a regression model**"
   ]
  },
  {
   "cell_type": "markdown",
   "metadata": {
    "id": "3UCHQclzQDUL"
   },
   "source": [
    "# **PACE stages**"
   ]
  },
  {
   "cell_type": "markdown",
   "metadata": {
    "id": "VJfAWkcilRVx"
   },
   "source": [
    "Throughout these project notebooks, you'll see references to the problem-solving framework PACE. The following notebook components are labeled with the respective PACE stage: Plan, Analyze, Construct, and Execute."
   ]
  },
  {
   "cell_type": "markdown",
   "metadata": {
    "id": "F5O5cx_qQJmX"
   },
   "source": [
    "## **PACE: Plan**\n",
    "Consider the questions in your PACE Strategy Document to reflect on the Plan stage."
   ]
  },
  {
   "cell_type": "markdown",
   "metadata": {
    "id": "D8qYlvkLQsf2"
   },
   "source": [
    "### **Task 1. Imports and loading**\n",
    "Import the data and packages that you've learned are needed for building regression models."
   ]
  },
  {
   "cell_type": "code",
   "execution_count": 102,
   "metadata": {
    "id": "tCni9wAGphb0"
   },
   "outputs": [],
   "source": [
    "# Import packages for data manipulation\n",
    "import pandas as pd\n",
    "import numpy as np\n",
    "\n",
    "# Import packages for data visualization\n",
    "import seaborn as sns\n",
    "import matplotlib.pyplot as plt\n",
    "\n",
    "# Import packages for data preprocessing\n",
    "from sklearn.preprocessing import OneHotEncoder\n",
    "\n",
    "# Import packages for data modeling\n",
    "from sklearn.linear_model import LogisticRegression\n",
    "from sklearn.model_selection import train_test_split\n",
    "import sklearn.metrics as metrics\n",
    "\n"
   ]
  },
  {
   "cell_type": "markdown",
   "metadata": {
    "id": "LjljvyG32kqe"
   },
   "source": [
    "Load the TikTok dataset.\n",
    "\n",
    "**Note:** As shown in this cell, the dataset has been automatically loaded in for you. You do not need to download the .csv file, or provide more code, in order to access the dataset and proceed with this lab. Please continue with this activity by completing the following instructions."
   ]
  },
  {
   "cell_type": "code",
   "execution_count": 103,
   "metadata": {
    "id": "C9ODhaOppqlw"
   },
   "outputs": [],
   "source": [
    "# Load dataset into dataframe\n",
    "data = pd.read_csv(\"tiktok_dataset.csv\")"
   ]
  },
  {
   "cell_type": "markdown",
   "metadata": {
    "id": "OnrvCSfHUWPv"
   },
   "source": [
    "## **PACE: Analyze**\n",
    "\n",
    "Consider the questions in your PACE Strategy Document to reflect on the Analyze stage.\n",
    "\n",
    "In this stage, consider the following question where applicable to complete your code response:\n",
    "\n",
    "* What are some purposes of EDA before constructing a logistic regression model?\n"
   ]
  },
  {
   "cell_type": "markdown",
   "metadata": {
    "id": "FZA0zpCSpYIL"
   },
   "source": [
    "**Discovery**: familiarizing \n",
    "- Feature selection\n",
    "- "
   ]
  },
  {
   "cell_type": "markdown",
   "metadata": {
    "id": "rIcDG2e66wt9"
   },
   "source": [
    "### **Task 2a. Explore data with EDA**\n",
    "\n",
    "Analyze the data and check for and handle missing values and duplicates."
   ]
  },
  {
   "cell_type": "markdown",
   "metadata": {
    "id": "JBHl90JIRuXk"
   },
   "source": [
    "Inspect the first five rows of the dataframe."
   ]
  },
  {
   "cell_type": "code",
   "execution_count": 104,
   "metadata": {
    "id": "2rfk95MLp4a_"
   },
   "outputs": [
    {
     "data": {
      "text/html": [
       "<div>\n",
       "<style scoped>\n",
       "    .dataframe tbody tr th:only-of-type {\n",
       "        vertical-align: middle;\n",
       "    }\n",
       "\n",
       "    .dataframe tbody tr th {\n",
       "        vertical-align: top;\n",
       "    }\n",
       "\n",
       "    .dataframe thead th {\n",
       "        text-align: right;\n",
       "    }\n",
       "</style>\n",
       "<table border=\"1\" class=\"dataframe\">\n",
       "  <thead>\n",
       "    <tr style=\"text-align: right;\">\n",
       "      <th></th>\n",
       "      <th>#</th>\n",
       "      <th>claim_status</th>\n",
       "      <th>video_id</th>\n",
       "      <th>video_duration_sec</th>\n",
       "      <th>video_transcription_text</th>\n",
       "      <th>verified_status</th>\n",
       "      <th>author_ban_status</th>\n",
       "      <th>video_view_count</th>\n",
       "      <th>video_like_count</th>\n",
       "      <th>video_share_count</th>\n",
       "      <th>video_download_count</th>\n",
       "      <th>video_comment_count</th>\n",
       "    </tr>\n",
       "  </thead>\n",
       "  <tbody>\n",
       "    <tr>\n",
       "      <th>0</th>\n",
       "      <td>1</td>\n",
       "      <td>claim</td>\n",
       "      <td>7017666017</td>\n",
       "      <td>59</td>\n",
       "      <td>someone shared with me that drone deliveries a...</td>\n",
       "      <td>not verified</td>\n",
       "      <td>under review</td>\n",
       "      <td>343296.0</td>\n",
       "      <td>19425.0</td>\n",
       "      <td>241.0</td>\n",
       "      <td>1.0</td>\n",
       "      <td>0.0</td>\n",
       "    </tr>\n",
       "    <tr>\n",
       "      <th>1</th>\n",
       "      <td>2</td>\n",
       "      <td>claim</td>\n",
       "      <td>4014381136</td>\n",
       "      <td>32</td>\n",
       "      <td>someone shared with me that there are more mic...</td>\n",
       "      <td>not verified</td>\n",
       "      <td>active</td>\n",
       "      <td>140877.0</td>\n",
       "      <td>77355.0</td>\n",
       "      <td>19034.0</td>\n",
       "      <td>1161.0</td>\n",
       "      <td>684.0</td>\n",
       "    </tr>\n",
       "    <tr>\n",
       "      <th>2</th>\n",
       "      <td>3</td>\n",
       "      <td>claim</td>\n",
       "      <td>9859838091</td>\n",
       "      <td>31</td>\n",
       "      <td>someone shared with me that american industria...</td>\n",
       "      <td>not verified</td>\n",
       "      <td>active</td>\n",
       "      <td>902185.0</td>\n",
       "      <td>97690.0</td>\n",
       "      <td>2858.0</td>\n",
       "      <td>833.0</td>\n",
       "      <td>329.0</td>\n",
       "    </tr>\n",
       "    <tr>\n",
       "      <th>3</th>\n",
       "      <td>4</td>\n",
       "      <td>claim</td>\n",
       "      <td>1866847991</td>\n",
       "      <td>25</td>\n",
       "      <td>someone shared with me that the metro of st. p...</td>\n",
       "      <td>not verified</td>\n",
       "      <td>active</td>\n",
       "      <td>437506.0</td>\n",
       "      <td>239954.0</td>\n",
       "      <td>34812.0</td>\n",
       "      <td>1234.0</td>\n",
       "      <td>584.0</td>\n",
       "    </tr>\n",
       "    <tr>\n",
       "      <th>4</th>\n",
       "      <td>5</td>\n",
       "      <td>claim</td>\n",
       "      <td>7105231098</td>\n",
       "      <td>19</td>\n",
       "      <td>someone shared with me that the number of busi...</td>\n",
       "      <td>not verified</td>\n",
       "      <td>active</td>\n",
       "      <td>56167.0</td>\n",
       "      <td>34987.0</td>\n",
       "      <td>4110.0</td>\n",
       "      <td>547.0</td>\n",
       "      <td>152.0</td>\n",
       "    </tr>\n",
       "  </tbody>\n",
       "</table>\n",
       "</div>"
      ],
      "text/plain": [
       "   # claim_status    video_id  video_duration_sec  \\\n",
       "0  1        claim  7017666017                  59   \n",
       "1  2        claim  4014381136                  32   \n",
       "2  3        claim  9859838091                  31   \n",
       "3  4        claim  1866847991                  25   \n",
       "4  5        claim  7105231098                  19   \n",
       "\n",
       "                            video_transcription_text verified_status  \\\n",
       "0  someone shared with me that drone deliveries a...    not verified   \n",
       "1  someone shared with me that there are more mic...    not verified   \n",
       "2  someone shared with me that american industria...    not verified   \n",
       "3  someone shared with me that the metro of st. p...    not verified   \n",
       "4  someone shared with me that the number of busi...    not verified   \n",
       "\n",
       "  author_ban_status  video_view_count  video_like_count  video_share_count  \\\n",
       "0      under review          343296.0           19425.0              241.0   \n",
       "1            active          140877.0           77355.0            19034.0   \n",
       "2            active          902185.0           97690.0             2858.0   \n",
       "3            active          437506.0          239954.0            34812.0   \n",
       "4            active           56167.0           34987.0             4110.0   \n",
       "\n",
       "   video_download_count  video_comment_count  \n",
       "0                   1.0                  0.0  \n",
       "1                1161.0                684.0  \n",
       "2                 833.0                329.0  \n",
       "3                1234.0                584.0  \n",
       "4                 547.0                152.0  "
      ]
     },
     "execution_count": 104,
     "metadata": {},
     "output_type": "execute_result"
    }
   ],
   "source": [
    "# Display first few rows\n",
    "data.head()\n"
   ]
  },
  {
   "cell_type": "markdown",
   "metadata": {
    "id": "66KOxKCx977b"
   },
   "source": [
    "Get the number of rows and columns in the dataset."
   ]
  },
  {
   "cell_type": "code",
   "execution_count": 105,
   "metadata": {
    "id": "kYwW-G1WqX3R"
   },
   "outputs": [
    {
     "data": {
      "text/plain": [
       "(19382, 12)"
      ]
     },
     "execution_count": 105,
     "metadata": {},
     "output_type": "execute_result"
    }
   ],
   "source": [
    "# Get number of rows and columns\n",
    "data.shape"
   ]
  },
  {
   "cell_type": "markdown",
   "metadata": {
    "id": "aP-NbEGdEio8"
   },
   "source": [
    "Get the data types of the columns."
   ]
  },
  {
   "cell_type": "code",
   "execution_count": 106,
   "metadata": {
    "id": "rbpDgrXfEoVj"
   },
   "outputs": [
    {
     "data": {
      "text/plain": [
       "#                             int64\n",
       "claim_status                 object\n",
       "video_id                      int64\n",
       "video_duration_sec            int64\n",
       "video_transcription_text     object\n",
       "verified_status              object\n",
       "author_ban_status            object\n",
       "video_view_count            float64\n",
       "video_like_count            float64\n",
       "video_share_count           float64\n",
       "video_download_count        float64\n",
       "video_comment_count         float64\n",
       "dtype: object"
      ]
     },
     "execution_count": 106,
     "metadata": {},
     "output_type": "execute_result"
    }
   ],
   "source": [
    "# Get data types of columns\n",
    "data.dtypes"
   ]
  },
  {
   "cell_type": "markdown",
   "metadata": {
    "id": "URuRVjUZ_Axg"
   },
   "source": [
    "Get basic information about the dataset."
   ]
  },
  {
   "cell_type": "code",
   "execution_count": 107,
   "metadata": {
    "id": "zyyKCGzCp7SS"
   },
   "outputs": [
    {
     "name": "stdout",
     "output_type": "stream",
     "text": [
      "<class 'pandas.core.frame.DataFrame'>\n",
      "RangeIndex: 19382 entries, 0 to 19381\n",
      "Data columns (total 12 columns):\n",
      " #   Column                    Non-Null Count  Dtype  \n",
      "---  ------                    --------------  -----  \n",
      " 0   #                         19382 non-null  int64  \n",
      " 1   claim_status              19084 non-null  object \n",
      " 2   video_id                  19382 non-null  int64  \n",
      " 3   video_duration_sec        19382 non-null  int64  \n",
      " 4   video_transcription_text  19084 non-null  object \n",
      " 5   verified_status           19382 non-null  object \n",
      " 6   author_ban_status         19382 non-null  object \n",
      " 7   video_view_count          19084 non-null  float64\n",
      " 8   video_like_count          19084 non-null  float64\n",
      " 9   video_share_count         19084 non-null  float64\n",
      " 10  video_download_count      19084 non-null  float64\n",
      " 11  video_comment_count       19084 non-null  float64\n",
      "dtypes: float64(5), int64(3), object(4)\n",
      "memory usage: 1.8+ MB\n"
     ]
    }
   ],
   "source": [
    "# Get basic information\n",
    "data.info()"
   ]
  },
  {
   "cell_type": "markdown",
   "metadata": {
    "id": "0T5Ieb6WB61Q"
   },
   "source": [
    "Generate basic descriptive statistics about the dataset."
   ]
  },
  {
   "cell_type": "code",
   "execution_count": 108,
   "metadata": {
    "id": "HbpuAS2UqY01"
   },
   "outputs": [
    {
     "data": {
      "text/html": [
       "<div>\n",
       "<style scoped>\n",
       "    .dataframe tbody tr th:only-of-type {\n",
       "        vertical-align: middle;\n",
       "    }\n",
       "\n",
       "    .dataframe tbody tr th {\n",
       "        vertical-align: top;\n",
       "    }\n",
       "\n",
       "    .dataframe thead th {\n",
       "        text-align: right;\n",
       "    }\n",
       "</style>\n",
       "<table border=\"1\" class=\"dataframe\">\n",
       "  <thead>\n",
       "    <tr style=\"text-align: right;\">\n",
       "      <th></th>\n",
       "      <th>#</th>\n",
       "      <th>claim_status</th>\n",
       "      <th>video_id</th>\n",
       "      <th>video_duration_sec</th>\n",
       "      <th>video_transcription_text</th>\n",
       "      <th>verified_status</th>\n",
       "      <th>author_ban_status</th>\n",
       "      <th>video_view_count</th>\n",
       "      <th>video_like_count</th>\n",
       "      <th>video_share_count</th>\n",
       "      <th>video_download_count</th>\n",
       "      <th>video_comment_count</th>\n",
       "    </tr>\n",
       "  </thead>\n",
       "  <tbody>\n",
       "    <tr>\n",
       "      <th>count</th>\n",
       "      <td>19382.000000</td>\n",
       "      <td>19084</td>\n",
       "      <td>1.938200e+04</td>\n",
       "      <td>19382.000000</td>\n",
       "      <td>19084</td>\n",
       "      <td>19382</td>\n",
       "      <td>19382</td>\n",
       "      <td>19084.000000</td>\n",
       "      <td>19084.000000</td>\n",
       "      <td>19084.000000</td>\n",
       "      <td>19084.000000</td>\n",
       "      <td>19084.000000</td>\n",
       "    </tr>\n",
       "    <tr>\n",
       "      <th>unique</th>\n",
       "      <td>NaN</td>\n",
       "      <td>2</td>\n",
       "      <td>NaN</td>\n",
       "      <td>NaN</td>\n",
       "      <td>19012</td>\n",
       "      <td>2</td>\n",
       "      <td>3</td>\n",
       "      <td>NaN</td>\n",
       "      <td>NaN</td>\n",
       "      <td>NaN</td>\n",
       "      <td>NaN</td>\n",
       "      <td>NaN</td>\n",
       "    </tr>\n",
       "    <tr>\n",
       "      <th>top</th>\n",
       "      <td>NaN</td>\n",
       "      <td>claim</td>\n",
       "      <td>NaN</td>\n",
       "      <td>NaN</td>\n",
       "      <td>a friend read  in the media a claim that badmi...</td>\n",
       "      <td>not verified</td>\n",
       "      <td>active</td>\n",
       "      <td>NaN</td>\n",
       "      <td>NaN</td>\n",
       "      <td>NaN</td>\n",
       "      <td>NaN</td>\n",
       "      <td>NaN</td>\n",
       "    </tr>\n",
       "    <tr>\n",
       "      <th>freq</th>\n",
       "      <td>NaN</td>\n",
       "      <td>9608</td>\n",
       "      <td>NaN</td>\n",
       "      <td>NaN</td>\n",
       "      <td>2</td>\n",
       "      <td>18142</td>\n",
       "      <td>15663</td>\n",
       "      <td>NaN</td>\n",
       "      <td>NaN</td>\n",
       "      <td>NaN</td>\n",
       "      <td>NaN</td>\n",
       "      <td>NaN</td>\n",
       "    </tr>\n",
       "    <tr>\n",
       "      <th>mean</th>\n",
       "      <td>9691.500000</td>\n",
       "      <td>NaN</td>\n",
       "      <td>5.627454e+09</td>\n",
       "      <td>32.421732</td>\n",
       "      <td>NaN</td>\n",
       "      <td>NaN</td>\n",
       "      <td>NaN</td>\n",
       "      <td>254708.558688</td>\n",
       "      <td>84304.636030</td>\n",
       "      <td>16735.248323</td>\n",
       "      <td>1049.429627</td>\n",
       "      <td>349.312146</td>\n",
       "    </tr>\n",
       "    <tr>\n",
       "      <th>std</th>\n",
       "      <td>5595.245794</td>\n",
       "      <td>NaN</td>\n",
       "      <td>2.536440e+09</td>\n",
       "      <td>16.229967</td>\n",
       "      <td>NaN</td>\n",
       "      <td>NaN</td>\n",
       "      <td>NaN</td>\n",
       "      <td>322893.280814</td>\n",
       "      <td>133420.546814</td>\n",
       "      <td>32036.174350</td>\n",
       "      <td>2004.299894</td>\n",
       "      <td>799.638865</td>\n",
       "    </tr>\n",
       "    <tr>\n",
       "      <th>min</th>\n",
       "      <td>1.000000</td>\n",
       "      <td>NaN</td>\n",
       "      <td>1.234959e+09</td>\n",
       "      <td>5.000000</td>\n",
       "      <td>NaN</td>\n",
       "      <td>NaN</td>\n",
       "      <td>NaN</td>\n",
       "      <td>20.000000</td>\n",
       "      <td>0.000000</td>\n",
       "      <td>0.000000</td>\n",
       "      <td>0.000000</td>\n",
       "      <td>0.000000</td>\n",
       "    </tr>\n",
       "    <tr>\n",
       "      <th>25%</th>\n",
       "      <td>4846.250000</td>\n",
       "      <td>NaN</td>\n",
       "      <td>3.430417e+09</td>\n",
       "      <td>18.000000</td>\n",
       "      <td>NaN</td>\n",
       "      <td>NaN</td>\n",
       "      <td>NaN</td>\n",
       "      <td>4942.500000</td>\n",
       "      <td>810.750000</td>\n",
       "      <td>115.000000</td>\n",
       "      <td>7.000000</td>\n",
       "      <td>1.000000</td>\n",
       "    </tr>\n",
       "    <tr>\n",
       "      <th>50%</th>\n",
       "      <td>9691.500000</td>\n",
       "      <td>NaN</td>\n",
       "      <td>5.618664e+09</td>\n",
       "      <td>32.000000</td>\n",
       "      <td>NaN</td>\n",
       "      <td>NaN</td>\n",
       "      <td>NaN</td>\n",
       "      <td>9954.500000</td>\n",
       "      <td>3403.500000</td>\n",
       "      <td>717.000000</td>\n",
       "      <td>46.000000</td>\n",
       "      <td>9.000000</td>\n",
       "    </tr>\n",
       "    <tr>\n",
       "      <th>75%</th>\n",
       "      <td>14536.750000</td>\n",
       "      <td>NaN</td>\n",
       "      <td>7.843960e+09</td>\n",
       "      <td>47.000000</td>\n",
       "      <td>NaN</td>\n",
       "      <td>NaN</td>\n",
       "      <td>NaN</td>\n",
       "      <td>504327.000000</td>\n",
       "      <td>125020.000000</td>\n",
       "      <td>18222.000000</td>\n",
       "      <td>1156.250000</td>\n",
       "      <td>292.000000</td>\n",
       "    </tr>\n",
       "    <tr>\n",
       "      <th>max</th>\n",
       "      <td>19382.000000</td>\n",
       "      <td>NaN</td>\n",
       "      <td>9.999873e+09</td>\n",
       "      <td>60.000000</td>\n",
       "      <td>NaN</td>\n",
       "      <td>NaN</td>\n",
       "      <td>NaN</td>\n",
       "      <td>999817.000000</td>\n",
       "      <td>657830.000000</td>\n",
       "      <td>256130.000000</td>\n",
       "      <td>14994.000000</td>\n",
       "      <td>9599.000000</td>\n",
       "    </tr>\n",
       "  </tbody>\n",
       "</table>\n",
       "</div>"
      ],
      "text/plain": [
       "                   # claim_status      video_id  video_duration_sec  \\\n",
       "count   19382.000000        19084  1.938200e+04        19382.000000   \n",
       "unique           NaN            2           NaN                 NaN   \n",
       "top              NaN        claim           NaN                 NaN   \n",
       "freq             NaN         9608           NaN                 NaN   \n",
       "mean     9691.500000          NaN  5.627454e+09           32.421732   \n",
       "std      5595.245794          NaN  2.536440e+09           16.229967   \n",
       "min         1.000000          NaN  1.234959e+09            5.000000   \n",
       "25%      4846.250000          NaN  3.430417e+09           18.000000   \n",
       "50%      9691.500000          NaN  5.618664e+09           32.000000   \n",
       "75%     14536.750000          NaN  7.843960e+09           47.000000   \n",
       "max     19382.000000          NaN  9.999873e+09           60.000000   \n",
       "\n",
       "                                 video_transcription_text verified_status  \\\n",
       "count                                               19084           19382   \n",
       "unique                                              19012               2   \n",
       "top     a friend read  in the media a claim that badmi...    not verified   \n",
       "freq                                                    2           18142   \n",
       "mean                                                  NaN             NaN   \n",
       "std                                                   NaN             NaN   \n",
       "min                                                   NaN             NaN   \n",
       "25%                                                   NaN             NaN   \n",
       "50%                                                   NaN             NaN   \n",
       "75%                                                   NaN             NaN   \n",
       "max                                                   NaN             NaN   \n",
       "\n",
       "       author_ban_status  video_view_count  video_like_count  \\\n",
       "count              19382      19084.000000      19084.000000   \n",
       "unique                 3               NaN               NaN   \n",
       "top               active               NaN               NaN   \n",
       "freq               15663               NaN               NaN   \n",
       "mean                 NaN     254708.558688      84304.636030   \n",
       "std                  NaN     322893.280814     133420.546814   \n",
       "min                  NaN         20.000000          0.000000   \n",
       "25%                  NaN       4942.500000        810.750000   \n",
       "50%                  NaN       9954.500000       3403.500000   \n",
       "75%                  NaN     504327.000000     125020.000000   \n",
       "max                  NaN     999817.000000     657830.000000   \n",
       "\n",
       "        video_share_count  video_download_count  video_comment_count  \n",
       "count        19084.000000          19084.000000         19084.000000  \n",
       "unique                NaN                   NaN                  NaN  \n",
       "top                   NaN                   NaN                  NaN  \n",
       "freq                  NaN                   NaN                  NaN  \n",
       "mean         16735.248323           1049.429627           349.312146  \n",
       "std          32036.174350           2004.299894           799.638865  \n",
       "min              0.000000              0.000000             0.000000  \n",
       "25%            115.000000              7.000000             1.000000  \n",
       "50%            717.000000             46.000000             9.000000  \n",
       "75%          18222.000000           1156.250000           292.000000  \n",
       "max         256130.000000          14994.000000          9599.000000  "
      ]
     },
     "execution_count": 108,
     "metadata": {},
     "output_type": "execute_result"
    }
   ],
   "source": [
    "# Generate basic descriptive stats\n",
    "data.describe(include='all')"
   ]
  },
  {
   "cell_type": "markdown",
   "metadata": {
    "id": "9OpeNQDdyIT6"
   },
   "source": [
    "Check for and handle missing values."
   ]
  },
  {
   "cell_type": "code",
   "execution_count": 109,
   "metadata": {
    "id": "BrunHcfa7xnT"
   },
   "outputs": [
    {
     "data": {
      "text/plain": [
       "#                             0\n",
       "claim_status                298\n",
       "video_id                      0\n",
       "video_duration_sec            0\n",
       "video_transcription_text    298\n",
       "verified_status               0\n",
       "author_ban_status             0\n",
       "video_view_count            298\n",
       "video_like_count            298\n",
       "video_share_count           298\n",
       "video_download_count        298\n",
       "video_comment_count         298\n",
       "dtype: int64"
      ]
     },
     "execution_count": 109,
     "metadata": {},
     "output_type": "execute_result"
    }
   ],
   "source": [
    "# Check for missing values\n",
    "data.isnull().sum()"
   ]
  },
  {
   "cell_type": "code",
   "execution_count": 110,
   "metadata": {
    "id": "SHSj1Hma914I"
   },
   "outputs": [
    {
     "data": {
      "text/plain": [
       "#                           0\n",
       "claim_status                0\n",
       "video_id                    0\n",
       "video_duration_sec          0\n",
       "video_transcription_text    0\n",
       "verified_status             0\n",
       "author_ban_status           0\n",
       "video_view_count            0\n",
       "video_like_count            0\n",
       "video_share_count           0\n",
       "video_download_count        0\n",
       "video_comment_count         0\n",
       "dtype: int64"
      ]
     },
     "execution_count": 110,
     "metadata": {},
     "output_type": "execute_result"
    }
   ],
   "source": [
    "# Drop rows with missing values\n",
    "data.dropna(inplace=True)\n",
    "data.reset_index(inplace=True, drop=True)\n",
    "\n",
    "# check\n",
    "data.isnull().sum()"
   ]
  },
  {
   "cell_type": "code",
   "execution_count": 111,
   "metadata": {
    "id": "ZYUF3xap9_Fa"
   },
   "outputs": [
    {
     "data": {
      "text/html": [
       "<div>\n",
       "<style scoped>\n",
       "    .dataframe tbody tr th:only-of-type {\n",
       "        vertical-align: middle;\n",
       "    }\n",
       "\n",
       "    .dataframe tbody tr th {\n",
       "        vertical-align: top;\n",
       "    }\n",
       "\n",
       "    .dataframe thead th {\n",
       "        text-align: right;\n",
       "    }\n",
       "</style>\n",
       "<table border=\"1\" class=\"dataframe\">\n",
       "  <thead>\n",
       "    <tr style=\"text-align: right;\">\n",
       "      <th></th>\n",
       "      <th>#</th>\n",
       "      <th>claim_status</th>\n",
       "      <th>video_id</th>\n",
       "      <th>video_duration_sec</th>\n",
       "      <th>video_transcription_text</th>\n",
       "      <th>verified_status</th>\n",
       "      <th>author_ban_status</th>\n",
       "      <th>video_view_count</th>\n",
       "      <th>video_like_count</th>\n",
       "      <th>video_share_count</th>\n",
       "      <th>video_download_count</th>\n",
       "      <th>video_comment_count</th>\n",
       "    </tr>\n",
       "  </thead>\n",
       "  <tbody>\n",
       "    <tr>\n",
       "      <th>0</th>\n",
       "      <td>1</td>\n",
       "      <td>claim</td>\n",
       "      <td>7017666017</td>\n",
       "      <td>59</td>\n",
       "      <td>someone shared with me that drone deliveries a...</td>\n",
       "      <td>not verified</td>\n",
       "      <td>under review</td>\n",
       "      <td>343296.0</td>\n",
       "      <td>19425.0</td>\n",
       "      <td>241.0</td>\n",
       "      <td>1.0</td>\n",
       "      <td>0.0</td>\n",
       "    </tr>\n",
       "    <tr>\n",
       "      <th>1</th>\n",
       "      <td>2</td>\n",
       "      <td>claim</td>\n",
       "      <td>4014381136</td>\n",
       "      <td>32</td>\n",
       "      <td>someone shared with me that there are more mic...</td>\n",
       "      <td>not verified</td>\n",
       "      <td>active</td>\n",
       "      <td>140877.0</td>\n",
       "      <td>77355.0</td>\n",
       "      <td>19034.0</td>\n",
       "      <td>1161.0</td>\n",
       "      <td>684.0</td>\n",
       "    </tr>\n",
       "    <tr>\n",
       "      <th>2</th>\n",
       "      <td>3</td>\n",
       "      <td>claim</td>\n",
       "      <td>9859838091</td>\n",
       "      <td>31</td>\n",
       "      <td>someone shared with me that american industria...</td>\n",
       "      <td>not verified</td>\n",
       "      <td>active</td>\n",
       "      <td>902185.0</td>\n",
       "      <td>97690.0</td>\n",
       "      <td>2858.0</td>\n",
       "      <td>833.0</td>\n",
       "      <td>329.0</td>\n",
       "    </tr>\n",
       "    <tr>\n",
       "      <th>3</th>\n",
       "      <td>4</td>\n",
       "      <td>claim</td>\n",
       "      <td>1866847991</td>\n",
       "      <td>25</td>\n",
       "      <td>someone shared with me that the metro of st. p...</td>\n",
       "      <td>not verified</td>\n",
       "      <td>active</td>\n",
       "      <td>437506.0</td>\n",
       "      <td>239954.0</td>\n",
       "      <td>34812.0</td>\n",
       "      <td>1234.0</td>\n",
       "      <td>584.0</td>\n",
       "    </tr>\n",
       "    <tr>\n",
       "      <th>4</th>\n",
       "      <td>5</td>\n",
       "      <td>claim</td>\n",
       "      <td>7105231098</td>\n",
       "      <td>19</td>\n",
       "      <td>someone shared with me that the number of busi...</td>\n",
       "      <td>not verified</td>\n",
       "      <td>active</td>\n",
       "      <td>56167.0</td>\n",
       "      <td>34987.0</td>\n",
       "      <td>4110.0</td>\n",
       "      <td>547.0</td>\n",
       "      <td>152.0</td>\n",
       "    </tr>\n",
       "  </tbody>\n",
       "</table>\n",
       "</div>"
      ],
      "text/plain": [
       "   # claim_status    video_id  video_duration_sec  \\\n",
       "0  1        claim  7017666017                  59   \n",
       "1  2        claim  4014381136                  32   \n",
       "2  3        claim  9859838091                  31   \n",
       "3  4        claim  1866847991                  25   \n",
       "4  5        claim  7105231098                  19   \n",
       "\n",
       "                            video_transcription_text verified_status  \\\n",
       "0  someone shared with me that drone deliveries a...    not verified   \n",
       "1  someone shared with me that there are more mic...    not verified   \n",
       "2  someone shared with me that american industria...    not verified   \n",
       "3  someone shared with me that the metro of st. p...    not verified   \n",
       "4  someone shared with me that the number of busi...    not verified   \n",
       "\n",
       "  author_ban_status  video_view_count  video_like_count  video_share_count  \\\n",
       "0      under review          343296.0           19425.0              241.0   \n",
       "1            active          140877.0           77355.0            19034.0   \n",
       "2            active          902185.0           97690.0             2858.0   \n",
       "3            active          437506.0          239954.0            34812.0   \n",
       "4            active           56167.0           34987.0             4110.0   \n",
       "\n",
       "   video_download_count  video_comment_count  \n",
       "0                   1.0                  0.0  \n",
       "1                1161.0                684.0  \n",
       "2                 833.0                329.0  \n",
       "3                1234.0                584.0  \n",
       "4                 547.0                152.0  "
      ]
     },
     "execution_count": 111,
     "metadata": {},
     "output_type": "execute_result"
    }
   ],
   "source": [
    "# Display first few rows after handling missing values\n",
    "data.head()"
   ]
  },
  {
   "cell_type": "markdown",
   "metadata": {
    "id": "XcfffpANyNiu"
   },
   "source": [
    "Check for and handle duplicates."
   ]
  },
  {
   "cell_type": "code",
   "execution_count": 112,
   "metadata": {
    "id": "IKaGnWIsiHpH"
   },
   "outputs": [
    {
     "name": "stdout",
     "output_type": "stream",
     "text": [
      "Empty DataFrame\n",
      "Columns: [#, claim_status, video_id, video_duration_sec, video_transcription_text, verified_status, author_ban_status, video_view_count, video_like_count, video_share_count, video_download_count, video_comment_count]\n",
      "Index: []\n"
     ]
    }
   ],
   "source": [
    "# Check for duplicates\n",
    "duplicate_rows = data[data.duplicated()]\n",
    "print(duplicate_rows)"
   ]
  },
  {
   "cell_type": "code",
   "execution_count": 113,
   "metadata": {},
   "outputs": [
    {
     "data": {
      "text/plain": [
       "array(['claim', 'opinion'], dtype=object)"
      ]
     },
     "execution_count": 113,
     "metadata": {},
     "output_type": "execute_result"
    }
   ],
   "source": [
    "# validate claim status\n",
    "data['claim_status'].unique()"
   ]
  },
  {
   "cell_type": "code",
   "execution_count": 114,
   "metadata": {},
   "outputs": [],
   "source": [
    "# create a list of numeric engagement features that might be helpful for analysis\n",
    "engagement_features = ['video_view_count', 'video_like_count', 'video_share_count', 'video_download_count', 'video_comment_count']"
   ]
  },
  {
   "cell_type": "markdown",
   "metadata": {
    "id": "k-HcHpGc5Hn7"
   },
   "source": [
    "Check for and handle outliers."
   ]
  },
  {
   "cell_type": "code",
   "execution_count": 115,
   "metadata": {},
   "outputs": [
    {
     "data": {
      "text/html": [
       "<div>\n",
       "<style scoped>\n",
       "    .dataframe tbody tr th:only-of-type {\n",
       "        vertical-align: middle;\n",
       "    }\n",
       "\n",
       "    .dataframe tbody tr th {\n",
       "        vertical-align: top;\n",
       "    }\n",
       "\n",
       "    .dataframe thead th {\n",
       "        text-align: right;\n",
       "    }\n",
       "</style>\n",
       "<table border=\"1\" class=\"dataframe\">\n",
       "  <thead>\n",
       "    <tr style=\"text-align: right;\">\n",
       "      <th></th>\n",
       "      <th>Metric</th>\n",
       "      <th>Median</th>\n",
       "      <th>90th Percentile</th>\n",
       "      <th>Ratio (90th Percentile / Median)</th>\n",
       "    </tr>\n",
       "  </thead>\n",
       "  <tbody>\n",
       "    <tr>\n",
       "      <th>0</th>\n",
       "      <td>video_view_count</td>\n",
       "      <td>9954.5</td>\n",
       "      <td>803355.9</td>\n",
       "      <td>80.702788</td>\n",
       "    </tr>\n",
       "    <tr>\n",
       "      <th>1</th>\n",
       "      <td>video_like_count</td>\n",
       "      <td>3403.5</td>\n",
       "      <td>293689.7</td>\n",
       "      <td>86.290495</td>\n",
       "    </tr>\n",
       "    <tr>\n",
       "      <th>2</th>\n",
       "      <td>video_share_count</td>\n",
       "      <td>717.0</td>\n",
       "      <td>58197.4</td>\n",
       "      <td>81.167922</td>\n",
       "    </tr>\n",
       "    <tr>\n",
       "      <th>3</th>\n",
       "      <td>video_download_count</td>\n",
       "      <td>46.0</td>\n",
       "      <td>3576.7</td>\n",
       "      <td>77.754348</td>\n",
       "    </tr>\n",
       "    <tr>\n",
       "      <th>4</th>\n",
       "      <td>video_comment_count</td>\n",
       "      <td>9.0</td>\n",
       "      <td>1120.0</td>\n",
       "      <td>124.444444</td>\n",
       "    </tr>\n",
       "  </tbody>\n",
       "</table>\n",
       "</div>"
      ],
      "text/plain": [
       "                 Metric  Median  90th Percentile  \\\n",
       "0      video_view_count  9954.5         803355.9   \n",
       "1      video_like_count  3403.5         293689.7   \n",
       "2     video_share_count   717.0          58197.4   \n",
       "3  video_download_count    46.0           3576.7   \n",
       "4   video_comment_count     9.0           1120.0   \n",
       "\n",
       "   Ratio (90th Percentile / Median)  \n",
       "0                         80.702788  \n",
       "1                         86.290495  \n",
       "2                         81.167922  \n",
       "3                         77.754348  \n",
       "4                        124.444444  "
      ]
     },
     "execution_count": 115,
     "metadata": {},
     "output_type": "execute_result"
    }
   ],
   "source": [
    "# While we can see from describe() lets confirm whether log transformation is useful for normalization of engagement_features\n",
    "# compare the medians to the top 90 percentile to determine statistical significance of skew\n",
    "\n",
    "# if the ratio of the 90th percentile to the median is greater than 1.5 we'll consider it skewed\n",
    "results = {'Metric': [], 'Median': [], '90th Percentile': [], 'Ratio (90th Percentile / Median)': []}\n",
    "\n",
    "# calculate median, 90th percentile, and the ratio\n",
    "for metric in engagement_features:\n",
    "    median_val = data[metric].median()\n",
    "    perc_90_val = data[metric].quantile(0.90)\n",
    "    ratio = perc_90_val / median_val\n",
    "    \n",
    "    results['Metric'].append(metric)\n",
    "    results['Median'].append(median_val)\n",
    "    results['90th Percentile'].append(perc_90_val)\n",
    "    results['Ratio (90th Percentile / Median)'].append(ratio)\n",
    "\n",
    "results_df = pd.DataFrame(results)\n",
    "results_df "
   ]
  },
  {
   "cell_type": "markdown",
   "metadata": {},
   "source": [
    "**Conclusion**: The ratio of 90th percentile to median is greater than 1 for each engagement metric providing strong evidence for right-skewedness. This rationalizes using log transformation for normalization."
   ]
  },
  {
   "cell_type": "code",
   "execution_count": 116,
   "metadata": {},
   "outputs": [
    {
     "data": {
      "text/html": [
       "<div>\n",
       "<style scoped>\n",
       "    .dataframe tbody tr th:only-of-type {\n",
       "        vertical-align: middle;\n",
       "    }\n",
       "\n",
       "    .dataframe tbody tr th {\n",
       "        vertical-align: top;\n",
       "    }\n",
       "\n",
       "    .dataframe thead th {\n",
       "        text-align: right;\n",
       "    }\n",
       "</style>\n",
       "<table border=\"1\" class=\"dataframe\">\n",
       "  <thead>\n",
       "    <tr style=\"text-align: right;\">\n",
       "      <th></th>\n",
       "      <th>#</th>\n",
       "      <th>claim_status</th>\n",
       "      <th>video_id</th>\n",
       "      <th>video_duration_sec</th>\n",
       "      <th>video_transcription_text</th>\n",
       "      <th>verified_status</th>\n",
       "      <th>author_ban_status</th>\n",
       "      <th>video_view_count</th>\n",
       "      <th>video_like_count</th>\n",
       "      <th>video_share_count</th>\n",
       "      <th>video_download_count</th>\n",
       "      <th>video_comment_count</th>\n",
       "      <th>log_video_view_count</th>\n",
       "      <th>log_video_like_count</th>\n",
       "      <th>log_video_share_count</th>\n",
       "      <th>log_video_download_count</th>\n",
       "      <th>log_video_comment_count</th>\n",
       "    </tr>\n",
       "  </thead>\n",
       "  <tbody>\n",
       "    <tr>\n",
       "      <th>0</th>\n",
       "      <td>1</td>\n",
       "      <td>claim</td>\n",
       "      <td>7017666017</td>\n",
       "      <td>59</td>\n",
       "      <td>someone shared with me that drone deliveries a...</td>\n",
       "      <td>not verified</td>\n",
       "      <td>under review</td>\n",
       "      <td>343296.0</td>\n",
       "      <td>19425.0</td>\n",
       "      <td>241.0</td>\n",
       "      <td>1.0</td>\n",
       "      <td>0.0</td>\n",
       "      <td>12.746351</td>\n",
       "      <td>9.874368</td>\n",
       "      <td>5.488938</td>\n",
       "      <td>0.693147</td>\n",
       "      <td>0.000000</td>\n",
       "    </tr>\n",
       "    <tr>\n",
       "      <th>1</th>\n",
       "      <td>2</td>\n",
       "      <td>claim</td>\n",
       "      <td>4014381136</td>\n",
       "      <td>32</td>\n",
       "      <td>someone shared with me that there are more mic...</td>\n",
       "      <td>not verified</td>\n",
       "      <td>active</td>\n",
       "      <td>140877.0</td>\n",
       "      <td>77355.0</td>\n",
       "      <td>19034.0</td>\n",
       "      <td>1161.0</td>\n",
       "      <td>684.0</td>\n",
       "      <td>11.855650</td>\n",
       "      <td>11.256173</td>\n",
       "      <td>9.854035</td>\n",
       "      <td>7.057898</td>\n",
       "      <td>6.529419</td>\n",
       "    </tr>\n",
       "    <tr>\n",
       "      <th>2</th>\n",
       "      <td>3</td>\n",
       "      <td>claim</td>\n",
       "      <td>9859838091</td>\n",
       "      <td>31</td>\n",
       "      <td>someone shared with me that american industria...</td>\n",
       "      <td>not verified</td>\n",
       "      <td>active</td>\n",
       "      <td>902185.0</td>\n",
       "      <td>97690.0</td>\n",
       "      <td>2858.0</td>\n",
       "      <td>833.0</td>\n",
       "      <td>329.0</td>\n",
       "      <td>13.712576</td>\n",
       "      <td>11.489565</td>\n",
       "      <td>7.958227</td>\n",
       "      <td>6.726233</td>\n",
       "      <td>5.799093</td>\n",
       "    </tr>\n",
       "    <tr>\n",
       "      <th>3</th>\n",
       "      <td>4</td>\n",
       "      <td>claim</td>\n",
       "      <td>1866847991</td>\n",
       "      <td>25</td>\n",
       "      <td>someone shared with me that the metro of st. p...</td>\n",
       "      <td>not verified</td>\n",
       "      <td>active</td>\n",
       "      <td>437506.0</td>\n",
       "      <td>239954.0</td>\n",
       "      <td>34812.0</td>\n",
       "      <td>1234.0</td>\n",
       "      <td>584.0</td>\n",
       "      <td>12.988848</td>\n",
       "      <td>12.388207</td>\n",
       "      <td>10.457746</td>\n",
       "      <td>7.118826</td>\n",
       "      <td>6.371612</td>\n",
       "    </tr>\n",
       "    <tr>\n",
       "      <th>4</th>\n",
       "      <td>5</td>\n",
       "      <td>claim</td>\n",
       "      <td>7105231098</td>\n",
       "      <td>19</td>\n",
       "      <td>someone shared with me that the number of busi...</td>\n",
       "      <td>not verified</td>\n",
       "      <td>active</td>\n",
       "      <td>56167.0</td>\n",
       "      <td>34987.0</td>\n",
       "      <td>4110.0</td>\n",
       "      <td>547.0</td>\n",
       "      <td>152.0</td>\n",
       "      <td>10.936102</td>\n",
       "      <td>10.462760</td>\n",
       "      <td>8.321422</td>\n",
       "      <td>6.306275</td>\n",
       "      <td>5.030438</td>\n",
       "    </tr>\n",
       "  </tbody>\n",
       "</table>\n",
       "</div>"
      ],
      "text/plain": [
       "   # claim_status    video_id  video_duration_sec  \\\n",
       "0  1        claim  7017666017                  59   \n",
       "1  2        claim  4014381136                  32   \n",
       "2  3        claim  9859838091                  31   \n",
       "3  4        claim  1866847991                  25   \n",
       "4  5        claim  7105231098                  19   \n",
       "\n",
       "                            video_transcription_text verified_status  \\\n",
       "0  someone shared with me that drone deliveries a...    not verified   \n",
       "1  someone shared with me that there are more mic...    not verified   \n",
       "2  someone shared with me that american industria...    not verified   \n",
       "3  someone shared with me that the metro of st. p...    not verified   \n",
       "4  someone shared with me that the number of busi...    not verified   \n",
       "\n",
       "  author_ban_status  video_view_count  video_like_count  video_share_count  \\\n",
       "0      under review          343296.0           19425.0              241.0   \n",
       "1            active          140877.0           77355.0            19034.0   \n",
       "2            active          902185.0           97690.0             2858.0   \n",
       "3            active          437506.0          239954.0            34812.0   \n",
       "4            active           56167.0           34987.0             4110.0   \n",
       "\n",
       "   video_download_count  video_comment_count  log_video_view_count  \\\n",
       "0                   1.0                  0.0             12.746351   \n",
       "1                1161.0                684.0             11.855650   \n",
       "2                 833.0                329.0             13.712576   \n",
       "3                1234.0                584.0             12.988848   \n",
       "4                 547.0                152.0             10.936102   \n",
       "\n",
       "   log_video_like_count  log_video_share_count  log_video_download_count  \\\n",
       "0              9.874368               5.488938                  0.693147   \n",
       "1             11.256173               9.854035                  7.057898   \n",
       "2             11.489565               7.958227                  6.726233   \n",
       "3             12.388207              10.457746                  7.118826   \n",
       "4             10.462760               8.321422                  6.306275   \n",
       "\n",
       "   log_video_comment_count  \n",
       "0                 0.000000  \n",
       "1                 6.529419  \n",
       "2                 5.799093  \n",
       "3                 6.371612  \n",
       "4                 5.030438  "
      ]
     },
     "execution_count": 116,
     "metadata": {},
     "output_type": "execute_result"
    }
   ],
   "source": [
    "# apply log transformation to the engagement metrics\n",
    "# add 1 to avoid the log(0) issue\n",
    "data['log_video_view_count'] = np.log1p(data['video_view_count'])\n",
    "data['log_video_like_count'] = np.log1p(data['video_like_count'])\n",
    "data['log_video_share_count'] = np.log1p(data['video_share_count'])\n",
    "data['log_video_download_count'] = np.log1p(data['video_download_count'])\n",
    "data['log_video_comment_count'] = np.log1p(data['video_comment_count'])\n",
    "\n",
    "# check\n",
    "data.head()"
   ]
  },
  {
   "cell_type": "code",
   "execution_count": 209,
   "metadata": {},
   "outputs": [],
   "source": [
    "# setting a simple accessible visualization style\n",
    "colors = [\"#003f5c\", \"#58508d\", \"#bc5090\", \"#ff6361\", \"#ffa600\"]\n",
    "claim_color =\"#003f5c\"\n",
    "opinion_color =\"#bc5090\"\n",
    "\n",
    "# set up the style\n",
    "sns.set_palette(colors)"
   ]
  },
  {
   "cell_type": "code",
   "execution_count": 118,
   "metadata": {
    "id": "Ts_lcV6qUQHq"
   },
   "outputs": [
    {
     "data": {
      "image/png": "[encoded data removed]",
      "text/plain": [
       "<Figure size 1200x600 with 2 Axes>"
      ]
     },
     "metadata": {},
     "output_type": "display_data"
    }
   ],
   "source": [
    "# Create a boxplot to visualize distribution of `video_duration_sec`\n",
    "\n",
    "fig, axes = plt.subplots(1, 2, figsize=(12,6))\n",
    "\n",
    "# boxplot for claim status\n",
    "sns.boxplot(ax=axes[0], x='claim_status', y='video_duration_sec', data=data)\n",
    "axes[0].set_xlabel('Claim Status')\n",
    "axes[0].set_ylabel('Video Duration in seconds')\n",
    "axes[0].set_title('Distribution of Video Duration by Claim Status')\n",
    "\n",
    "# boxplot for verified status\n",
    "sns.boxplot(ax=axes[1], x='verified_status', y='video_duration_sec', data=data)\n",
    "axes[1].set_xlabel('Verified Status')\n",
    "axes[1].set_ylabel('Video Duration in seconds')\n",
    "axes[1].set_title('Distribution of Video Duration by Verified Status')\n",
    "\n",
    "# Adjust layout\n",
    "plt.tight_layout()\n",
    "plt.show()"
   ]
  },
  {
   "cell_type": "code",
   "execution_count": 119,
   "metadata": {
    "id": "qlUccI91a4NH"
   },
   "outputs": [
    {
     "data": {
      "image/png": "[encoded data removed]",
      "text/plain": [
       "<Figure size 1400x600 with 2 Axes>"
      ]
     },
     "metadata": {},
     "output_type": "display_data"
    }
   ],
   "source": [
    "# Create boxplots to visualize distribution of `log_video_view_count` with and without outliers\n",
    "\n",
    "plt.figure(figsize=(14, 6))\n",
    "\n",
    "# boxplot with outliers\n",
    "plt.subplot(1, 2, 1)\n",
    "sns.boxplot(x='claim_status', y='log_video_view_count', data=data, showfliers=True)\n",
    "plt.xlabel('Claim Status')\n",
    "plt.ylabel('Video View Count (log)')\n",
    "plt.title('With Outliers')\n",
    "\n",
    "# boxplot without outliers\n",
    "plt.subplot(1, 2, 2)\n",
    "sns.boxplot(x='claim_status', y='log_video_view_count', data=data, showfliers=False)\n",
    "plt.xlabel('Claim Status')\n",
    "plt.ylabel('Video View Count (log)')\n",
    "plt.title('Without Outliers')\n",
    "\n",
    "plt.suptitle('Comparison of Video View Count Distribution by Claim Status')\n",
    "plt.tight_layout(rect=[0, 0, 1, 0.95])\n",
    "plt.show()"
   ]
  },
  {
   "cell_type": "code",
   "execution_count": 120,
   "metadata": {
    "id": "N0UVdeRUzEEF"
   },
   "outputs": [
    {
     "data": {
      "image/png": "[encoded data removed]",
      "text/plain": [
       "<Figure size 1400x600 with 2 Axes>"
      ]
     },
     "metadata": {},
     "output_type": "display_data"
    }
   ],
   "source": [
    "# Create boxplots to visualize distribution of `log_video_like_count` with and without outliers\n",
    "\n",
    "plt.figure(figsize=(14, 6))\n",
    "\n",
    "# boxplot with outliers\n",
    "plt.subplot(1, 2, 1)\n",
    "sns.boxplot(x='claim_status', y='log_video_like_count', data=data, showfliers=True)\n",
    "plt.xlabel('Claim Status')\n",
    "plt.ylabel('Video Like Count (log scale)')\n",
    "plt.title('With Outliers')\n",
    "\n",
    "# boxplot without outliers\n",
    "plt.subplot(1, 2, 2)\n",
    "sns.boxplot(x='claim_status', y='log_video_like_count', data=data, showfliers=False)\n",
    "plt.xlabel('Claim Status')\n",
    "plt.ylabel('Video Like Count (log scale)')\n",
    "plt.title('Without Outliers')\n",
    "\n",
    "plt.suptitle('Comparison of Video Like Count Distribution by Claim Status')\n",
    "plt.tight_layout(rect=[0, 0, 1, 0.95])\n",
    "plt.show()"
   ]
  },
  {
   "cell_type": "code",
   "execution_count": 121,
   "metadata": {
    "id": "-gE1fkGo0eG9"
   },
   "outputs": [
    {
     "data": {
      "image/png": "[encoded data removed]",
      "text/plain": [
       "<Figure size 1400x600 with 2 Axes>"
      ]
     },
     "metadata": {},
     "output_type": "display_data"
    }
   ],
   "source": [
    "# Create boxplots to visualize distribution of `video_comment_count` with and without outliers\n",
    "plt.figure(figsize=(14, 6))\n",
    "\n",
    "# boxplot with outliers\n",
    "plt.subplot(1, 2, 1)\n",
    "sns.boxplot(x='claim_status', y='log_video_comment_count', data=data, showfliers=True)\n",
    "plt.xlabel('Claim Status')\n",
    "plt.ylabel('Video Comment Count (log scale)')\n",
    "plt.title('With Outliers')\n",
    "\n",
    "# boxplot without outliers \n",
    "plt.subplot(1, 2, 2)\n",
    "sns.boxplot(x='claim_status', y='log_video_comment_count', data=data, showfliers=False)\n",
    "plt.xlabel('Claim Status')\n",
    "plt.ylabel('Video Comment Count (log scale)')\n",
    "plt.title('Without Outliers')\n",
    "\n",
    "plt.suptitle('Comparison of Video Comment Count Distribution by Claim Status')\n",
    "plt.tight_layout(rect=[0, 0, 1, 0.95])\n",
    "\n",
    "plt.show()"
   ]
  },
  {
   "cell_type": "code",
   "execution_count": 122,
   "metadata": {
    "id": "85JfQprd5Kn9"
   },
   "outputs": [
    {
     "name": "stdout",
     "output_type": "stream",
     "text": [
      "Number of outliers in log_video_like_count: 4\n",
      "Percentage of outliers in log_video_like_count: 0.02%\n"
     ]
    }
   ],
   "source": [
    "# Check for and handle outliers for log_video_like_count\n",
    "\n",
    "Q1 = data['log_video_like_count'].quantile(0.25)\n",
    "Q3 = data['log_video_like_count'].quantile(0.75)\n",
    "IQR = Q3 - Q1\n",
    "median = data['log_video_like_count'].median()\n",
    "\n",
    "lower_threshold = median - 1.5 * IQR\n",
    "upper_threshold = median + 1.5 * IQR\n",
    "\n",
    "log_like_outliers = ((data['log_video_like_count'] < lower_threshold) | (data['log_video_like_count'] > upper_threshold))\n",
    "\n",
    "num_outliers = log_like_outliers.sum()\n",
    "percent_outliers = (num_outliers / len(data['log_video_like_count'])) * 100\n",
    "\n",
    "# Print results\n",
    "print(f\"Number of outliers in log_video_like_count: {num_outliers}\")\n",
    "print(f\"Percentage of outliers in log_video_like_count: {percent_outliers:.2f}%\")\n"
   ]
  },
  {
   "cell_type": "code",
   "execution_count": 123,
   "metadata": {},
   "outputs": [
    {
     "name": "stdout",
     "output_type": "stream",
     "text": [
      "\n",
      "Original dataset shape: (19084, 17)\n",
      "Cleaned dataset shape: (19080, 17)\n"
     ]
    }
   ],
   "source": [
    "# Since they represent only .02% of the dataset my approach is to remove the outliers\n",
    "data_clean = data[~log_like_outliers].copy()\n",
    "\n",
    "# Reset the index of the cleaned dataset\n",
    "data_clean.reset_index(drop=True, inplace=True)\n",
    "\n",
    "# Verify the removal\n",
    "print(f\"\\nOriginal dataset shape: {data.shape}\")\n",
    "print(f\"Cleaned dataset shape: {data_clean.shape}\")"
   ]
  },
  {
   "cell_type": "markdown",
   "metadata": {
    "id": "eDcY0ZaEJgDl"
   },
   "source": [
    "Check class balance."
   ]
  },
  {
   "cell_type": "code",
   "execution_count": 124,
   "metadata": {},
   "outputs": [
    {
     "name": "stdout",
     "output_type": "stream",
     "text": [
      "Number of duplicate rows: 0\n"
     ]
    }
   ],
   "source": [
    "# check for duplicates\n",
    "duplicated_rows = data_clean.duplicated()\n",
    "\n",
    "# number of duplicate rows\n",
    "num_duplicated = duplicated_rows.sum()\n",
    "print(f'Number of duplicate rows: {num_duplicated}')"
   ]
  },
  {
   "cell_type": "code",
   "execution_count": 125,
   "metadata": {
    "id": "e3klRqlsJhtp"
   },
   "outputs": [
    {
     "data": {
      "text/plain": [
       "verified_status  claim_status\n",
       "not verified     claim           9398\n",
       "                 opinion         8482\n",
       "verified         claim            209\n",
       "                 opinion          991\n",
       "Name: log_video_comment_count, dtype: int64"
      ]
     },
     "execution_count": 125,
     "metadata": {},
     "output_type": "execute_result"
    }
   ],
   "source": [
    "# Check class balance for log_video_comment_count\n",
    "grouped_comment_data=data_clean.groupby(['verified_status', 'claim_status'])['log_video_comment_count'].count()\n",
    "grouped_comment_data"
   ]
  },
  {
   "cell_type": "markdown",
   "metadata": {
    "id": "ePYWt2p5LqlW"
   },
   "source": [
    "Approximately 94.2% of the dataset represents videos posted by unverified accounts and 5.8% represents videos posted by verified accounts. So the outcome variable is not very balanced."
   ]
  },
  {
   "cell_type": "markdown",
   "metadata": {
    "id": "zRDMuXjbA9KQ"
   },
   "source": [
    "Use resampling to create class balance in the outcome variable, if needed."
   ]
  },
  {
   "cell_type": "code",
   "execution_count": 126,
   "metadata": {
    "id": "AWhetFT3Ggyp"
   },
   "outputs": [
    {
     "name": "stdout",
     "output_type": "stream",
     "text": [
      "New Balanced Class Proportions:\n",
      "verified_status\n",
      "not verified    0.500014\n",
      "verified        0.499986\n",
      "Name: proportion, dtype: float64\n",
      "\n",
      "New Balanced Class Counts By Verified and Claim Status:\n",
      "verified_status  claim_status\n",
      "not verified     claim            9398\n",
      "                 opinion          8482\n",
      "verified         claim            3114\n",
      "                 opinion         14765\n",
      "dtype: int64\n",
      "\n",
      "Checking sum:\n",
      "Total samples in balanced data: 35759\n",
      "Approximate expected samples: 35760\n"
     ]
    }
   ],
   "source": [
    "# Use resampling to create class balance in the outcome variable, if needed\n",
    "from sklearn.utils import resample\n",
    "\n",
    "# Identify data points from majority and minority classes\n",
    "verified=data_clean[data_clean['verified_status'] == 'verified']\n",
    "unverified=data_clean[data_clean['verified_status'] == 'not verified']\n",
    "\n",
    "# determine number of samples needed for balance\n",
    "n_samples = len(unverified)\n",
    "\n",
    "# separate the minority class into claim and opinion\n",
    "verified_claim = verified[verified['claim_status'] == 'claim']\n",
    "verified_opinion = verified[verified['claim_status'] == 'opinion']\n",
    "\n",
    "# determine the proportion of claim and opinion in the verified class\n",
    "claim_proportion = len(verified_claim)/ len(verified)\n",
    "opinion_proportion = len(verified_opinion)/ len(verified)\n",
    "\n",
    "# Upsample the minority class (which is \"verified\") while maintaining respective claim/opinion proportion\n",
    "verified_claim_upsampled = resample(verified_claim,\n",
    "                                    replace=True,\n",
    "                                    n_samples=int(n_samples * claim_proportion),\n",
    "                                    random_state=42)\n",
    "\n",
    "verified_opinion_upsampled = resample(verified_opinion,\n",
    "                                      replace=True,\n",
    "                                      n_samples=int(n_samples * opinion_proportion),\n",
    "                                      random_state=42)\n",
    "\n",
    "# combine the upsampled verified data\n",
    "verified_upsampled = pd.concat([verified_claim_upsampled, verified_opinion_upsampled])\n",
    "\n",
    "# Combine majority class with upsampled minority class\n",
    "balanced_data = pd.concat([unverified, verified_upsampled])\n",
    "\n",
    "# shuffle to ensure random distribution post-concatenation \n",
    "balanced_data = balanced_data.sample(frac=1, random_state=42).reset_index(drop=True)\n",
    "\n",
    "# Display new balanced class counts \n",
    "print('New Balanced Class Proportions:')\n",
    "print(balanced_data['verified_status'].value_counts(normalize=True))\n",
    "print()\n",
    "print('New Balanced Class Counts By Verified and Claim Status:')\n",
    "print(balanced_data.groupby(['verified_status', 'claim_status']).size())\n",
    "print()\n",
    "\n",
    "# check for the approx expected number of samples\n",
    "print('Checking sum:')\n",
    "print(f'Total samples in balanced data: {len(balanced_data)}')\n",
    "print(f'Approximate expected samples: {len(unverified) * 2}')"
   ]
  },
  {
   "cell_type": "markdown",
   "metadata": {
    "id": "K2RHONw6D3R6"
   },
   "source": [
    "Get the average `video_transcription_text` length for videos posted by verified accounts and the average `video_transcription_text` length for videos posted by unverified accounts.\n",
    "\n"
   ]
  },
  {
   "cell_type": "code",
   "execution_count": 127,
   "metadata": {
    "id": "w-aaFCPCD88e"
   },
   "outputs": [
    {
     "name": "stdout",
     "output_type": "stream",
     "text": [
      "Average video_transcription_text length by verified and claim status:\n"
     ]
    },
    {
     "data": {
      "text/plain": [
       "verified_status  claim_status\n",
       "not verified     claim           95.387423\n",
       "                 opinion         82.774228\n",
       "verified         claim           94.977200\n",
       "                 opinion         82.302133\n",
       "Name: video_transcription_text, dtype: float64"
      ]
     },
     "execution_count": 127,
     "metadata": {},
     "output_type": "execute_result"
    }
   ],
   "source": [
    "# Get the average `video_transcription_text` length for claims and the average `video_transcription_text` length for opinions\n",
    "print('Average video_transcription_text length by verified and claim status:')\n",
    "balanced_data.groupby(['verified_status', 'claim_status'])['video_transcription_text'].apply(lambda x: x.str.len().mean())"
   ]
  },
  {
   "cell_type": "markdown",
   "metadata": {
    "id": "hb_u1c6_T1i-"
   },
   "source": [
    "Extract the length of each `video_transcription_text` and add this as a column to the dataframe, so that it can be used as a potential feature in the model."
   ]
  },
  {
   "cell_type": "code",
   "execution_count": 128,
   "metadata": {
    "id": "8Yr9hhhVHeYY"
   },
   "outputs": [],
   "source": [
    "# Extract the length of each `video_transcription_text` and add this as a column to the dataframe\n",
    "balanced_data['video_transcribed_length'] = balanced_data['video_transcription_text'].str.len()"
   ]
  },
  {
   "cell_type": "code",
   "execution_count": 129,
   "metadata": {
    "id": "Vzg0J8UEJ1wx"
   },
   "outputs": [
    {
     "data": {
      "text/html": [
       "<div>\n",
       "<style scoped>\n",
       "    .dataframe tbody tr th:only-of-type {\n",
       "        vertical-align: middle;\n",
       "    }\n",
       "\n",
       "    .dataframe tbody tr th {\n",
       "        vertical-align: top;\n",
       "    }\n",
       "\n",
       "    .dataframe thead th {\n",
       "        text-align: right;\n",
       "    }\n",
       "</style>\n",
       "<table border=\"1\" class=\"dataframe\">\n",
       "  <thead>\n",
       "    <tr style=\"text-align: right;\">\n",
       "      <th></th>\n",
       "      <th>#</th>\n",
       "      <th>claim_status</th>\n",
       "      <th>video_id</th>\n",
       "      <th>video_duration_sec</th>\n",
       "      <th>video_transcription_text</th>\n",
       "      <th>verified_status</th>\n",
       "      <th>author_ban_status</th>\n",
       "      <th>video_view_count</th>\n",
       "      <th>video_like_count</th>\n",
       "      <th>video_share_count</th>\n",
       "      <th>video_download_count</th>\n",
       "      <th>video_comment_count</th>\n",
       "      <th>log_video_view_count</th>\n",
       "      <th>log_video_like_count</th>\n",
       "      <th>log_video_share_count</th>\n",
       "      <th>log_video_download_count</th>\n",
       "      <th>log_video_comment_count</th>\n",
       "      <th>video_transcribed_length</th>\n",
       "    </tr>\n",
       "  </thead>\n",
       "  <tbody>\n",
       "    <tr>\n",
       "      <th>0</th>\n",
       "      <td>3143</td>\n",
       "      <td>claim</td>\n",
       "      <td>7449067498</td>\n",
       "      <td>31</td>\n",
       "      <td>someone learned  on an internet forum that the...</td>\n",
       "      <td>not verified</td>\n",
       "      <td>banned</td>\n",
       "      <td>150677.0</td>\n",
       "      <td>57395.0</td>\n",
       "      <td>323.0</td>\n",
       "      <td>210.0</td>\n",
       "      <td>23.0</td>\n",
       "      <td>11.922900</td>\n",
       "      <td>10.957730</td>\n",
       "      <td>5.780744</td>\n",
       "      <td>5.351858</td>\n",
       "      <td>3.178054</td>\n",
       "      <td>95</td>\n",
       "    </tr>\n",
       "    <tr>\n",
       "      <th>1</th>\n",
       "      <td>13617</td>\n",
       "      <td>opinion</td>\n",
       "      <td>2398587342</td>\n",
       "      <td>29</td>\n",
       "      <td>my friends' view is that the eiffel tower gets...</td>\n",
       "      <td>not verified</td>\n",
       "      <td>active</td>\n",
       "      <td>6916.0</td>\n",
       "      <td>2455.0</td>\n",
       "      <td>679.0</td>\n",
       "      <td>61.0</td>\n",
       "      <td>11.0</td>\n",
       "      <td>8.841737</td>\n",
       "      <td>7.806289</td>\n",
       "      <td>6.522093</td>\n",
       "      <td>4.127134</td>\n",
       "      <td>2.484907</td>\n",
       "      <td>71</td>\n",
       "    </tr>\n",
       "    <tr>\n",
       "      <th>2</th>\n",
       "      <td>8128</td>\n",
       "      <td>claim</td>\n",
       "      <td>3839605902</td>\n",
       "      <td>40</td>\n",
       "      <td>i encountered a story claiming that the red-bi...</td>\n",
       "      <td>not verified</td>\n",
       "      <td>active</td>\n",
       "      <td>294413.0</td>\n",
       "      <td>27376.0</td>\n",
       "      <td>10184.0</td>\n",
       "      <td>589.0</td>\n",
       "      <td>102.0</td>\n",
       "      <td>12.592742</td>\n",
       "      <td>10.217459</td>\n",
       "      <td>9.228671</td>\n",
       "      <td>6.380123</td>\n",
       "      <td>4.634729</td>\n",
       "      <td>90</td>\n",
       "    </tr>\n",
       "    <tr>\n",
       "      <th>3</th>\n",
       "      <td>16944</td>\n",
       "      <td>opinion</td>\n",
       "      <td>2560323885</td>\n",
       "      <td>17</td>\n",
       "      <td>my colleagues' hypothesis is that evidence fro...</td>\n",
       "      <td>verified</td>\n",
       "      <td>active</td>\n",
       "      <td>7464.0</td>\n",
       "      <td>1725.0</td>\n",
       "      <td>663.0</td>\n",
       "      <td>32.0</td>\n",
       "      <td>2.0</td>\n",
       "      <td>8.917981</td>\n",
       "      <td>7.453562</td>\n",
       "      <td>6.498282</td>\n",
       "      <td>3.496508</td>\n",
       "      <td>1.098612</td>\n",
       "      <td>104</td>\n",
       "    </tr>\n",
       "    <tr>\n",
       "      <th>4</th>\n",
       "      <td>2705</td>\n",
       "      <td>claim</td>\n",
       "      <td>4246742960</td>\n",
       "      <td>8</td>\n",
       "      <td>a friend read  in a discussion board that the ...</td>\n",
       "      <td>not verified</td>\n",
       "      <td>active</td>\n",
       "      <td>257592.0</td>\n",
       "      <td>163342.0</td>\n",
       "      <td>3081.0</td>\n",
       "      <td>3824.0</td>\n",
       "      <td>1775.0</td>\n",
       "      <td>12.459136</td>\n",
       "      <td>12.003608</td>\n",
       "      <td>8.033334</td>\n",
       "      <td>8.249314</td>\n",
       "      <td>7.482119</td>\n",
       "      <td>117</td>\n",
       "    </tr>\n",
       "  </tbody>\n",
       "</table>\n",
       "</div>"
      ],
      "text/plain": [
       "       # claim_status    video_id  video_duration_sec  \\\n",
       "0   3143        claim  7449067498                  31   \n",
       "1  13617      opinion  2398587342                  29   \n",
       "2   8128        claim  3839605902                  40   \n",
       "3  16944      opinion  2560323885                  17   \n",
       "4   2705        claim  4246742960                   8   \n",
       "\n",
       "                            video_transcription_text verified_status  \\\n",
       "0  someone learned  on an internet forum that the...    not verified   \n",
       "1  my friends' view is that the eiffel tower gets...    not verified   \n",
       "2  i encountered a story claiming that the red-bi...    not verified   \n",
       "3  my colleagues' hypothesis is that evidence fro...        verified   \n",
       "4  a friend read  in a discussion board that the ...    not verified   \n",
       "\n",
       "  author_ban_status  video_view_count  video_like_count  video_share_count  \\\n",
       "0            banned          150677.0           57395.0              323.0   \n",
       "1            active            6916.0            2455.0              679.0   \n",
       "2            active          294413.0           27376.0            10184.0   \n",
       "3            active            7464.0            1725.0              663.0   \n",
       "4            active          257592.0          163342.0             3081.0   \n",
       "\n",
       "   video_download_count  video_comment_count  log_video_view_count  \\\n",
       "0                 210.0                 23.0             11.922900   \n",
       "1                  61.0                 11.0              8.841737   \n",
       "2                 589.0                102.0             12.592742   \n",
       "3                  32.0                  2.0              8.917981   \n",
       "4                3824.0               1775.0             12.459136   \n",
       "\n",
       "   log_video_like_count  log_video_share_count  log_video_download_count  \\\n",
       "0             10.957730               5.780744                  5.351858   \n",
       "1              7.806289               6.522093                  4.127134   \n",
       "2             10.217459               9.228671                  6.380123   \n",
       "3              7.453562               6.498282                  3.496508   \n",
       "4             12.003608               8.033334                  8.249314   \n",
       "\n",
       "   log_video_comment_count  video_transcribed_length  \n",
       "0                 3.178054                        95  \n",
       "1                 2.484907                        71  \n",
       "2                 4.634729                        90  \n",
       "3                 1.098612                       104  \n",
       "4                 7.482119                       117  "
      ]
     },
     "execution_count": 129,
     "metadata": {},
     "output_type": "execute_result"
    }
   ],
   "source": [
    "# Display first few rows of dataframe after adding new column\n",
    "balanced_data.head()"
   ]
  },
  {
   "cell_type": "markdown",
   "metadata": {
    "id": "LGu7ipi4AJmP"
   },
   "source": [
    "Visualize the distribution of `video_transcription_text` length for videos posted by verified accounts and videos posted by unverified accounts."
   ]
  },
  {
   "cell_type": "code",
   "execution_count": 130,
   "metadata": {
    "id": "MSq136S3TIYe"
   },
   "outputs": [
    {
     "data": {
      "image/png": "[encoded data removed]",
      "text/plain": [
       "<Figure size 1200x600 with 1 Axes>"
      ]
     },
     "metadata": {},
     "output_type": "display_data"
    }
   ],
   "source": [
    "# Visualize the distribution of `video_transcription_text` length for videos posted by verified accounts and videos posted by unverified accounts\n",
    "# Create two histograms in one plot\n",
    "plt.figure(figsize=(12,6))\n",
    "\n",
    "sns.histplot(data=balanced_data, x='video_transcribed_length', hue='verified_status', multiple='dodge', kde=True, bins=30)\n",
    "\n",
    "plt.xlabel('Video Transcription Length')\n",
    "plt.ylabel('Count')\n",
    "plt.title('Distribution of Video Transcription Length by Verified Status')\n",
    "\n",
    "plt.show() "
   ]
  },
  {
   "cell_type": "markdown",
   "metadata": {
    "id": "KlF7ZNSyW0yV"
   },
   "source": [
    "### **Task 2b. Examine correlations**"
   ]
  },
  {
   "cell_type": "markdown",
   "metadata": {
    "id": "pKkx6FvS4OpI"
   },
   "source": [
    "Next, code a correlation matrix to help determine most correlated variables."
   ]
  },
  {
   "cell_type": "code",
   "execution_count": 131,
   "metadata": {},
   "outputs": [],
   "source": [
    "# create a set of numeric features for the log transformed engagement data, video duration and video transcription length\n",
    "numeric_features = ['video_duration_sec', 'log_video_view_count', 'log_video_like_count', 'log_video_share_count', 'log_video_download_count', 'log_video_comment_count','video_transcribed_length']"
   ]
  },
  {
   "cell_type": "code",
   "execution_count": 132,
   "metadata": {},
   "outputs": [],
   "source": [
    "# separate the claims and opinions for more insight\n",
    "claims_data = balanced_data[balanced_data['claim_status'] == 'claim']\n",
    "opinions_data = balanced_data[balanced_data['claim_status'] == 'opinion']"
   ]
  },
  {
   "cell_type": "code",
   "execution_count": 230,
   "metadata": {
    "id": "KCEzE-gwL5gq"
   },
   "outputs": [],
   "source": [
    "# Code a correlation matrix to help determine most correlated variables amongst claims data\n",
    "# from pandas.plotting import scatter_matrix\n",
    "# These are commented out as they are noisy and not nearly as helpful as the correlation matrices below. Uncomment to see scatter\n",
    "\n",
    "# plt.figure(figsize=(20, 20))\n",
    "# scatter_matrix(claims_data[numeric_features], figsize=(20, 20), diagonal='kde', color='#003f5c')\n",
    "# plt.tight_layout()\n",
    "# plt.show()"
   ]
  },
  {
   "cell_type": "code",
   "execution_count": 232,
   "metadata": {},
   "outputs": [],
   "source": [
    "# See if there are differences in correlations in opinion data\n",
    "# These are commented out as they are noisy and not nearly as helpful as the correlation matrices below. Uncomment to see scatter\n",
    "\n",
    "# plt.figure(figsize=(20, 20))\n",
    "# scatter_matrix(opinions_data[numeric_features], figsize=(20, 20), diagonal='kde', color='#bc5090')\n",
    "# plt.tight_layout()\n",
    "# plt.show()"
   ]
  },
  {
   "cell_type": "markdown",
   "metadata": {
    "id": "6Ldmks6g4ZzE"
   },
   "source": [
    "Visualize a correlation heatmap of the data."
   ]
  },
  {
   "cell_type": "code",
   "execution_count": 135,
   "metadata": {},
   "outputs": [],
   "source": [
    "from matplotlib.colors import LinearSegmentedColormap\n",
    "\n",
    "# expand color theme as necessary for heatmap\n",
    "custom_cmap = LinearSegmentedColormap.from_list(\"custom_palette\", colors, N=256)"
   ]
  },
  {
   "cell_type": "code",
   "execution_count": 136,
   "metadata": {},
   "outputs": [
    {
     "data": {
      "image/png": "[encoded data removed]",
      "text/plain": [
       "<Figure size 640x480 with 2 Axes>"
      ]
     },
     "metadata": {},
     "output_type": "display_data"
    }
   ],
   "source": [
    "balanced_corr = balanced_data[numeric_features].corr()\n",
    "\n",
    "ax = sns.heatmap(balanced_corr, annot=True, cmap=sns.cubehelix_palette(as_cmap=True), fmt=\".2f\", vmin=-1, vmax=1, center=0)\n",
    "ax.set_title('Correlation Matrix - All Data', fontsize=10)\n",
    "\n",
    "plt.show()"
   ]
  },
  {
   "cell_type": "code",
   "execution_count": 137,
   "metadata": {},
   "outputs": [
    {
     "data": {
      "image/png": "[encoded data removed]",
      "text/plain": [
       "<Figure size 640x480 with 2 Axes>"
      ]
     },
     "metadata": {},
     "output_type": "display_data"
    }
   ],
   "source": [
    "# Create a heatmap to visualize how correlated variables are\n",
    "claims_corr = claims_data[numeric_features].corr()\n",
    "\n",
    "# Plot claims_data\n",
    "ax = sns.heatmap(claims_corr, annot=True, cmap=sns.cubehelix_palette(as_cmap=True), fmt=\".2f\", vmin=-1, vmax=1, center=0)\n",
    "ax.set_title('Correlation Matrix - Claims Data', fontsize=10)\n",
    "\n",
    "# Display the plots\n",
    "plt.show()"
   ]
  },
  {
   "cell_type": "code",
   "execution_count": 138,
   "metadata": {
    "id": "8Ti_MFF7tekR"
   },
   "outputs": [
    {
     "data": {
      "image/png": "[encoded data removed]",
      "text/plain": [
       "<Figure size 640x480 with 2 Axes>"
      ]
     },
     "metadata": {},
     "output_type": "display_data"
    }
   ],
   "source": [
    "# Create a heatmap to visualize how correlated opinion data variables are\n",
    "opinions_corr = opinions_data[numeric_features].corr()\n",
    "\n",
    "# Plot  opinions_data\n",
    "ax = sns.heatmap(opinions_corr, annot=True, cmap=sns.cubehelix_palette(as_cmap=True), fmt=\".2f\", vmin=-1, vmax=1, center=0)\n",
    "ax.set_title('Correlation Matrix - Opinions Data', fontsize=10)\n",
    "\n",
    "# Display the plots\n",
    "plt.show()"
   ]
  },
  {
   "cell_type": "markdown",
   "metadata": {},
   "source": [
    "**Heatmap Correlation Matirx Conclusion**: The difference in correlations between the combined dataset and the separated claims/opinions datasets suggests that the claim/opinion status interacts significantly with other features. If the multicollinearity is not addressed it will make the logistic regression model less useful. "
   ]
  },
  {
   "cell_type": "markdown",
   "metadata": {
    "id": "zyQgcrDI00bT"
   },
   "source": [
    "One of the model assumptions for logistic regression is no severe multicollinearity among the features. Take this into consideration as you examine the heatmap and choose which features to proceed with.\n",
    "\n",
    "**Question:** What variables are shown to be correlated in the heatmap?\n",
    "\n",
    "**Answer:** When grouped together all the variables show significant correlation apart from video duration and transcribed length"
   ]
  },
  {
   "cell_type": "markdown",
   "metadata": {
    "id": "lgPul2DiY6T4"
   },
   "source": [
    "## **PACE: Construct**\n",
    "\n",
    "After analysis and deriving variables with close relationships, it is time to begin constructing the model. "
   ]
  },
  {
   "cell_type": "markdown",
   "metadata": {
    "id": "07UJJm41ajgf"
   },
   "source": [
    "### **Task 3a. Encode variables**"
   ]
  },
  {
   "cell_type": "code",
   "execution_count": 139,
   "metadata": {},
   "outputs": [],
   "source": [
    "# Add a new column with an encoding of claim_status of claims set to 1 and opinions set to 0\n",
    "balanced_data['is_claim'] = (balanced_data['claim_status'] == 'claim').astype(int)"
   ]
  },
  {
   "cell_type": "code",
   "execution_count": 140,
   "metadata": {},
   "outputs": [],
   "source": [
    "#Add a new column encoding claim\n",
    "balanced_data['is_verified'] = (balanced_data['verified_status'] == 'verified').astype(int)"
   ]
  },
  {
   "cell_type": "code",
   "execution_count": 142,
   "metadata": {},
   "outputs": [
    {
     "data": {
      "text/html": [
       "<div>\n",
       "<style scoped>\n",
       "    .dataframe tbody tr th:only-of-type {\n",
       "        vertical-align: middle;\n",
       "    }\n",
       "\n",
       "    .dataframe tbody tr th {\n",
       "        vertical-align: top;\n",
       "    }\n",
       "\n",
       "    .dataframe thead th {\n",
       "        text-align: right;\n",
       "    }\n",
       "</style>\n",
       "<table border=\"1\" class=\"dataframe\">\n",
       "  <thead>\n",
       "    <tr style=\"text-align: right;\">\n",
       "      <th></th>\n",
       "      <th>#</th>\n",
       "      <th>claim_status</th>\n",
       "      <th>video_id</th>\n",
       "      <th>video_duration_sec</th>\n",
       "      <th>video_transcription_text</th>\n",
       "      <th>verified_status</th>\n",
       "      <th>video_view_count</th>\n",
       "      <th>video_like_count</th>\n",
       "      <th>video_share_count</th>\n",
       "      <th>video_download_count</th>\n",
       "      <th>...</th>\n",
       "      <th>log_video_view_count</th>\n",
       "      <th>log_video_like_count</th>\n",
       "      <th>log_video_share_count</th>\n",
       "      <th>log_video_download_count</th>\n",
       "      <th>log_video_comment_count</th>\n",
       "      <th>video_transcribed_length</th>\n",
       "      <th>is_claim</th>\n",
       "      <th>is_verified</th>\n",
       "      <th>author_ban_status_banned</th>\n",
       "      <th>author_ban_status_under review</th>\n",
       "    </tr>\n",
       "  </thead>\n",
       "  <tbody>\n",
       "    <tr>\n",
       "      <th>0</th>\n",
       "      <td>3143</td>\n",
       "      <td>claim</td>\n",
       "      <td>7449067498</td>\n",
       "      <td>31</td>\n",
       "      <td>someone learned  on an internet forum that the...</td>\n",
       "      <td>not verified</td>\n",
       "      <td>150677.0</td>\n",
       "      <td>57395.0</td>\n",
       "      <td>323.0</td>\n",
       "      <td>210.0</td>\n",
       "      <td>...</td>\n",
       "      <td>11.922900</td>\n",
       "      <td>10.957730</td>\n",
       "      <td>5.780744</td>\n",
       "      <td>5.351858</td>\n",
       "      <td>3.178054</td>\n",
       "      <td>95</td>\n",
       "      <td>1</td>\n",
       "      <td>0</td>\n",
       "      <td>1.0</td>\n",
       "      <td>0.0</td>\n",
       "    </tr>\n",
       "    <tr>\n",
       "      <th>1</th>\n",
       "      <td>13617</td>\n",
       "      <td>opinion</td>\n",
       "      <td>2398587342</td>\n",
       "      <td>29</td>\n",
       "      <td>my friends' view is that the eiffel tower gets...</td>\n",
       "      <td>not verified</td>\n",
       "      <td>6916.0</td>\n",
       "      <td>2455.0</td>\n",
       "      <td>679.0</td>\n",
       "      <td>61.0</td>\n",
       "      <td>...</td>\n",
       "      <td>8.841737</td>\n",
       "      <td>7.806289</td>\n",
       "      <td>6.522093</td>\n",
       "      <td>4.127134</td>\n",
       "      <td>2.484907</td>\n",
       "      <td>71</td>\n",
       "      <td>0</td>\n",
       "      <td>0</td>\n",
       "      <td>0.0</td>\n",
       "      <td>0.0</td>\n",
       "    </tr>\n",
       "    <tr>\n",
       "      <th>2</th>\n",
       "      <td>8128</td>\n",
       "      <td>claim</td>\n",
       "      <td>3839605902</td>\n",
       "      <td>40</td>\n",
       "      <td>i encountered a story claiming that the red-bi...</td>\n",
       "      <td>not verified</td>\n",
       "      <td>294413.0</td>\n",
       "      <td>27376.0</td>\n",
       "      <td>10184.0</td>\n",
       "      <td>589.0</td>\n",
       "      <td>...</td>\n",
       "      <td>12.592742</td>\n",
       "      <td>10.217459</td>\n",
       "      <td>9.228671</td>\n",
       "      <td>6.380123</td>\n",
       "      <td>4.634729</td>\n",
       "      <td>90</td>\n",
       "      <td>1</td>\n",
       "      <td>0</td>\n",
       "      <td>0.0</td>\n",
       "      <td>0.0</td>\n",
       "    </tr>\n",
       "    <tr>\n",
       "      <th>3</th>\n",
       "      <td>16944</td>\n",
       "      <td>opinion</td>\n",
       "      <td>2560323885</td>\n",
       "      <td>17</td>\n",
       "      <td>my colleagues' hypothesis is that evidence fro...</td>\n",
       "      <td>verified</td>\n",
       "      <td>7464.0</td>\n",
       "      <td>1725.0</td>\n",
       "      <td>663.0</td>\n",
       "      <td>32.0</td>\n",
       "      <td>...</td>\n",
       "      <td>8.917981</td>\n",
       "      <td>7.453562</td>\n",
       "      <td>6.498282</td>\n",
       "      <td>3.496508</td>\n",
       "      <td>1.098612</td>\n",
       "      <td>104</td>\n",
       "      <td>0</td>\n",
       "      <td>1</td>\n",
       "      <td>0.0</td>\n",
       "      <td>0.0</td>\n",
       "    </tr>\n",
       "    <tr>\n",
       "      <th>4</th>\n",
       "      <td>2705</td>\n",
       "      <td>claim</td>\n",
       "      <td>4246742960</td>\n",
       "      <td>8</td>\n",
       "      <td>a friend read  in a discussion board that the ...</td>\n",
       "      <td>not verified</td>\n",
       "      <td>257592.0</td>\n",
       "      <td>163342.0</td>\n",
       "      <td>3081.0</td>\n",
       "      <td>3824.0</td>\n",
       "      <td>...</td>\n",
       "      <td>12.459136</td>\n",
       "      <td>12.003608</td>\n",
       "      <td>8.033334</td>\n",
       "      <td>8.249314</td>\n",
       "      <td>7.482119</td>\n",
       "      <td>117</td>\n",
       "      <td>1</td>\n",
       "      <td>0</td>\n",
       "      <td>0.0</td>\n",
       "      <td>0.0</td>\n",
       "    </tr>\n",
       "  </tbody>\n",
       "</table>\n",
       "<p>5 rows × 21 columns</p>\n",
       "</div>"
      ],
      "text/plain": [
       "       # claim_status    video_id  video_duration_sec  \\\n",
       "0   3143        claim  7449067498                  31   \n",
       "1  13617      opinion  2398587342                  29   \n",
       "2   8128        claim  3839605902                  40   \n",
       "3  16944      opinion  2560323885                  17   \n",
       "4   2705        claim  4246742960                   8   \n",
       "\n",
       "                            video_transcription_text verified_status  \\\n",
       "0  someone learned  on an internet forum that the...    not verified   \n",
       "1  my friends' view is that the eiffel tower gets...    not verified   \n",
       "2  i encountered a story claiming that the red-bi...    not verified   \n",
       "3  my colleagues' hypothesis is that evidence fro...        verified   \n",
       "4  a friend read  in a discussion board that the ...    not verified   \n",
       "\n",
       "   video_view_count  video_like_count  video_share_count  \\\n",
       "0          150677.0           57395.0              323.0   \n",
       "1            6916.0            2455.0              679.0   \n",
       "2          294413.0           27376.0            10184.0   \n",
       "3            7464.0            1725.0              663.0   \n",
       "4          257592.0          163342.0             3081.0   \n",
       "\n",
       "   video_download_count  ...  log_video_view_count  log_video_like_count  \\\n",
       "0                 210.0  ...             11.922900             10.957730   \n",
       "1                  61.0  ...              8.841737              7.806289   \n",
       "2                 589.0  ...             12.592742             10.217459   \n",
       "3                  32.0  ...              8.917981              7.453562   \n",
       "4                3824.0  ...             12.459136             12.003608   \n",
       "\n",
       "   log_video_share_count  log_video_download_count  log_video_comment_count  \\\n",
       "0               5.780744                  5.351858                 3.178054   \n",
       "1               6.522093                  4.127134                 2.484907   \n",
       "2               9.228671                  6.380123                 4.634729   \n",
       "3               6.498282                  3.496508                 1.098612   \n",
       "4               8.033334                  8.249314                 7.482119   \n",
       "\n",
       "   video_transcribed_length  is_claim  is_verified  author_ban_status_banned  \\\n",
       "0                        95         1            0                       1.0   \n",
       "1                        71         0            0                       0.0   \n",
       "2                        90         1            0                       0.0   \n",
       "3                       104         0            1                       0.0   \n",
       "4                       117         1            0                       0.0   \n",
       "\n",
       "   author_ban_status_under review  \n",
       "0                             0.0  \n",
       "1                             0.0  \n",
       "2                             0.0  \n",
       "3                             0.0  \n",
       "4                             0.0  \n",
       "\n",
       "[5 rows x 21 columns]"
      ]
     },
     "execution_count": 142,
     "metadata": {},
     "output_type": "execute_result"
    }
   ],
   "source": [
    "# encode author ban status\n",
    "encoder = OneHotEncoder(drop='first', sparse_output=False)\n",
    "encoded_features = encoder.fit_transform(balanced_data[['author_ban_status']])\n",
    "\n",
    "# create new DataFrame with encoded features and concatenate with original\n",
    "balanced_data = pd.concat([\n",
    "    balanced_data.drop(columns=['author_ban_status']),\n",
    "    pd.DataFrame(encoded_features, columns=encoder.get_feature_names_out(['author_ban_status']),\n",
    "                 index=balanced_data.index)\n",
    "], axis=1)\n",
    "\n",
    "balanced_data.head()"
   ]
  },
  {
   "cell_type": "code",
   "execution_count": 143,
   "metadata": {},
   "outputs": [],
   "source": [
    "# rename the under review column to remove the space\n",
    "balanced_data.rename(columns={'author_ban_status_under review': 'author_ban_status_reviewing'}, inplace=True)"
   ]
  },
  {
   "cell_type": "markdown",
   "metadata": {},
   "source": [
    "### **Task 3b. Initial Feature selection and feature engineering**"
   ]
  },
  {
   "cell_type": "code",
   "execution_count": 99,
   "metadata": {},
   "outputs": [],
   "source": [
    "# Create a list of potentially interesting features \n",
    "# Considering NLP on the transcription text outside of the scope for now\n",
    "# Removing non-log transformed engagement features because of data skew\n",
    "# Removing the non-encoded categorical data\n",
    "columns_to_keep = [\n",
    "    'is_verified','video_duration_sec', 'author_ban_status_banned', \n",
    "    'author_ban_status_reviewing', 'video_transcribed_length', 'is_claim', \n",
    "    'log_video_view_count', 'log_video_like_count', \n",
    "    'log_video_share_count', 'log_video_download_count', \n",
    "    'log_video_comment_count'\n",
    "]\n",
    "\n",
    "# Create a new DataFrame with only the selected columns\n",
    "subset_df = balanced_data[columns_to_keep].copy()"
   ]
  },
  {
   "cell_type": "code",
   "execution_count": 145,
   "metadata": {},
   "outputs": [],
   "source": [
    "# create a set of the most interactive features\n",
    "interactive_features = ['log_video_view_count', 'log_video_like_count', 'log_video_share_count', 'log_video_download_count', 'log_video_comment_count']"
   ]
  },
  {
   "cell_type": "code",
   "execution_count": 146,
   "metadata": {},
   "outputs": [],
   "source": [
    "# Create interaction terms\n",
    "subset_df_with_interactions = subset_df.copy()\n",
    "\n",
    "# create interaction terms\n",
    "for col in interactive_features:\n",
    "    subset_df_with_interactions[f'{col}_claim_interX'] = subset_df_with_interactions[col] * subset_df_with_interactions['is_claim']"
   ]
  },
  {
   "cell_type": "markdown",
   "metadata": {},
   "source": [
    "### **Task 3c. Feature scaling**"
   ]
  },
  {
   "cell_type": "code",
   "execution_count": 152,
   "metadata": {},
   "outputs": [],
   "source": [
    "# Scale the features in prep for PCA\n",
    "from sklearn.preprocessing import StandardScaler\n",
    "def scale_numerical_features(df, exclude_columns=None):\n",
    "    \"\"\"\n",
    "    Scales numerical features excluding specified columns. Input df is scaled in place\n",
    "    arg: a df\n",
    "    returns: a df\n",
    "    \"\"\"\n",
    "    df = df.copy()\n",
    "    \n",
    "    # columns that should not be scaled\n",
    "    if exclude_columns is None:\n",
    "        exclude_columns = []\n",
    "    \n",
    "     # separate the columns to exclude\n",
    "    excluded_df = df[exclude_columns]\n",
    "    df_to_scale = df.drop(columns=exclude_columns)\n",
    "    \n",
    "    # scale the remaining columns\n",
    "    scaler = StandardScaler()\n",
    "    df_scaled = pd.DataFrame(scaler.fit_transform(df_to_scale), columns=df_to_scale.columns, index=df.index)\n",
    "    \n",
    "    # concatenate back the excluded columns\n",
    "    return pd.concat([df_scaled, excluded_df], axis=1)"
   ]
  },
  {
   "cell_type": "code",
   "execution_count": 153,
   "metadata": {},
   "outputs": [],
   "source": [
    "# scale the data\n",
    "exclude_columns = ['is_verified', 'is_claim', 'author_ban_status_reviewing', 'author_ban_status_banned']\n",
    "scaled_df = scale_numerical_features(subset_df_with_interactions, exclude_columns)"
   ]
  },
  {
   "cell_type": "markdown",
   "metadata": {
    "id": "gPIBz0-HDEqd"
   },
   "source": [
    "### **Task 3e. Train-test split**"
   ]
  },
  {
   "cell_type": "markdown",
   "metadata": {
    "id": "5tNw9_y9jmY1"
   },
   "source": [
    "Split the data into training and testing sets."
   ]
  },
  {
   "cell_type": "code",
   "execution_count": 159,
   "metadata": {
    "id": "jKgrew0V6o_3"
   },
   "outputs": [],
   "source": [
    "# Split the data into training and testing sets for the model with all the features\n",
    "X_all = scaled_df.drop('is_verified', axis=1)\n",
    "y_all = scaled_df['is_verified']\n",
    "X_all_train, X_all_test, y_all_train, y_all_test = train_test_split(X_all, y_all, test_size=0.2, random_state=42)"
   ]
  },
  {
   "cell_type": "markdown",
   "metadata": {
    "id": "5VlklzoujrAR"
   },
   "source": [
    "Confirm that the dimensions of the training and testing sets are in alignment."
   ]
  },
  {
   "cell_type": "code",
   "execution_count": 160,
   "metadata": {
    "id": "xgbB1NCtfxcc"
   },
   "outputs": [
    {
     "name": "stdout",
     "output_type": "stream",
     "text": [
      "All Features Model:\n",
      "Training set shape: (28607, 15)\n",
      "Testing set shape: (7152, 15)\n"
     ]
    }
   ],
   "source": [
    "# Get shape of each training and testing set for the model with all the features\n",
    "print(\"All Features Model:\")\n",
    "print(f\"Training set shape: {X_all_train.shape}\")\n",
    "print(f\"Testing set shape: {X_all_test.shape}\")"
   ]
  },
  {
   "cell_type": "markdown",
   "metadata": {
    "id": "iDYyjWssbnBG"
   },
   "source": [
    "### **Task 3f. Model building**"
   ]
  },
  {
   "cell_type": "markdown",
   "metadata": {
    "id": "ty8ieBkDBH4g"
   },
   "source": [
    "Construct a model and fit it to the training set."
   ]
  },
  {
   "cell_type": "code",
   "execution_count": 162,
   "metadata": {
    "id": "sNcke2SNvZrN"
   },
   "outputs": [
    {
     "data": {
      "text/html": [
       "<style>#sk-container-id-1 {color: black;}#sk-container-id-1 pre{padding: 0;}#sk-container-id-1 div.sk-toggleable {background-color: white;}#sk-container-id-1 label.sk-toggleable__label {cursor: pointer;display: block;width: 100%;margin-bottom: 0;padding: 0.3em;box-sizing: border-box;text-align: center;}#sk-container-id-1 label.sk-toggleable__label-arrow:before {content: \"▸\";float: left;margin-right: 0.25em;color: #696969;}#sk-container-id-1 label.sk-toggleable__label-arrow:hover:before {color: black;}#sk-container-id-1 div.sk-estimator:hover label.sk-toggleable__label-arrow:before {color: black;}#sk-container-id-1 div.sk-toggleable__content {max-height: 0;max-width: 0;overflow: hidden;text-align: left;background-color: #f0f8ff;}#sk-container-id-1 div.sk-toggleable__content pre {margin: 0.2em;color: black;border-radius: 0.25em;background-color: #f0f8ff;}#sk-container-id-1 input.sk-toggleable__control:checked~div.sk-toggleable__content {max-height: 200px;max-width: 100%;overflow: auto;}#sk-container-id-1 input.sk-toggleable__control:checked~label.sk-toggleable__label-arrow:before {content: \"▾\";}#sk-container-id-1 div.sk-estimator input.sk-toggleable__control:checked~label.sk-toggleable__label {background-color: #d4ebff;}#sk-container-id-1 div.sk-label input.sk-toggleable__control:checked~label.sk-toggleable__label {background-color: #d4ebff;}#sk-container-id-1 input.sk-hidden--visually {border: 0;clip: rect(1px 1px 1px 1px);clip: rect(1px, 1px, 1px, 1px);height: 1px;margin: -1px;overflow: hidden;padding: 0;position: absolute;width: 1px;}#sk-container-id-1 div.sk-estimator {font-family: monospace;background-color: #f0f8ff;border: 1px dotted black;border-radius: 0.25em;box-sizing: border-box;margin-bottom: 0.5em;}#sk-container-id-1 div.sk-estimator:hover {background-color: #d4ebff;}#sk-container-id-1 div.sk-parallel-item::after {content: \"\";width: 100%;border-bottom: 1px solid gray;flex-grow: 1;}#sk-container-id-1 div.sk-label:hover label.sk-toggleable__label {background-color: #d4ebff;}#sk-container-id-1 div.sk-serial::before {content: \"\";position: absolute;border-left: 1px solid gray;box-sizing: border-box;top: 0;bottom: 0;left: 50%;z-index: 0;}#sk-container-id-1 div.sk-serial {display: flex;flex-direction: column;align-items: center;background-color: white;padding-right: 0.2em;padding-left: 0.2em;position: relative;}#sk-container-id-1 div.sk-item {position: relative;z-index: 1;}#sk-container-id-1 div.sk-parallel {display: flex;align-items: stretch;justify-content: center;background-color: white;position: relative;}#sk-container-id-1 div.sk-item::before, #sk-container-id-1 div.sk-parallel-item::before {content: \"\";position: absolute;border-left: 1px solid gray;box-sizing: border-box;top: 0;bottom: 0;left: 50%;z-index: -1;}#sk-container-id-1 div.sk-parallel-item {display: flex;flex-direction: column;z-index: 1;position: relative;background-color: white;}#sk-container-id-1 div.sk-parallel-item:first-child::after {align-self: flex-end;width: 50%;}#sk-container-id-1 div.sk-parallel-item:last-child::after {align-self: flex-start;width: 50%;}#sk-container-id-1 div.sk-parallel-item:only-child::after {width: 0;}#sk-container-id-1 div.sk-dashed-wrapped {border: 1px dashed gray;margin: 0 0.4em 0.5em 0.4em;box-sizing: border-box;padding-bottom: 0.4em;background-color: white;}#sk-container-id-1 div.sk-label label {font-family: monospace;font-weight: bold;display: inline-block;line-height: 1.2em;}#sk-container-id-1 div.sk-label-container {text-align: center;}#sk-container-id-1 div.sk-container {/* jupyter's `normalize.less` sets `[hidden] { display: none; }` but bootstrap.min.css set `[hidden] { display: none !important; }` so we also need the `!important` here to be able to override the default hidden behavior on the sphinx rendered scikit-learn.org. See: https://github.com/scikit-learn/scikit-learn/issues/21755 */display: inline-block !important;position: relative;}#sk-container-id-1 div.sk-text-repr-fallback {display: none;}</style><div id=\"sk-container-id-1\" class=\"sk-top-container\"><div class=\"sk-text-repr-fallback\"><pre>LogisticRegressionCV(cv=5, max_iter=5000, penalty=&#x27;l1&#x27;, random_state=42,\n",
       "                     solver=&#x27;saga&#x27;)</pre><b>In a Jupyter environment, please rerun this cell to show the HTML representation or trust the notebook. <br />On GitHub, the HTML representation is unable to render, please try loading this page with nbviewer.org.</b></div><div class=\"sk-container\" hidden><div class=\"sk-item\"><div class=\"sk-estimator sk-toggleable\"><input class=\"sk-toggleable__control sk-hidden--visually\" id=\"sk-estimator-id-1\" type=\"checkbox\" checked><label for=\"sk-estimator-id-1\" class=\"sk-toggleable__label sk-toggleable__label-arrow\">LogisticRegressionCV</label><div class=\"sk-toggleable__content\"><pre>LogisticRegressionCV(cv=5, max_iter=5000, penalty=&#x27;l1&#x27;, random_state=42,\n",
       "                     solver=&#x27;saga&#x27;)</pre></div></div></div></div></div>"
      ],
      "text/plain": [
       "LogisticRegressionCV(cv=5, max_iter=5000, penalty='l1', random_state=42,\n",
       "                     solver='saga')"
      ]
     },
     "execution_count": 162,
     "metadata": {},
     "output_type": "execute_result"
    }
   ],
   "source": [
    "# Construct a logistic regression model and fit it to the training set for the model with all the features\n",
    "# using L1 penalty (Lasso) to account for multicollinearity\n",
    "# using LogisitcRegressionCV to use cross-validation to automatically select the best hyperparameters\n",
    "# cross folding or splitting the data into 5 folds so its evaluated 5 times\n",
    "# using saga solver which is good for L1 penalty\n",
    "from sklearn.linear_model import LogisticRegressionCV\n",
    "\n",
    "all_features_model = LogisticRegressionCV(cv=5, penalty='l1', solver='saga', random_state=42, max_iter=5000)\n",
    "all_features_model.fit(X_all_train, y_all_train)"
   ]
  },
  {
   "cell_type": "markdown",
   "metadata": {
    "id": "cp7ojoBldEYy"
   },
   "source": [
    "## **PACE: Execute**\n",
    "\n",
    "Consider the questions in your PACE Strategy Document to reflect on the Execute stage."
   ]
  },
  {
   "cell_type": "markdown",
   "metadata": {
    "id": "F_l3bkxQdJ3a"
   },
   "source": [
    "### **Taks 4a. Results and evaluation**\n",
    "\n",
    "Evaluate your model."
   ]
  },
  {
   "cell_type": "markdown",
   "metadata": {
    "id": "bxnKPq6dIUOB"
   },
   "source": [
    "Encode categorical features in the testing set using an appropriate method."
   ]
  },
  {
   "cell_type": "markdown",
   "metadata": {
    "id": "gM9egturW1eX"
   },
   "source": [
    "Test the logistic regression model. Use the model to make predictions on the encoded testing set."
   ]
  },
  {
   "cell_type": "code",
   "execution_count": 80,
   "metadata": {},
   "outputs": [],
   "source": [
    "# convert target variables back to integers from floats\n",
    "y_pca_train = y_pca_train.astype(int)\n",
    "y_pca_test = y_pca_test.astype(int)"
   ]
  },
  {
   "cell_type": "code",
   "execution_count": 215,
   "metadata": {},
   "outputs": [],
   "source": [
    "# Create a function to evaluate the models\n",
    "from sklearn.metrics import accuracy_score, precision_score, recall_score, f1_score, roc_auc_score, confusion_matrix\n",
    "from sklearn.model_selection import cross_val_score\n",
    "\n",
    "def evaluate_model(model, X_train, X_test, y_train, y_test, model_name):\n",
    "    '''\n",
    "    Evaluate the model with various metrics and displays detailed results.\n",
    "    '''\n",
    "    print(f\"\\n{model_name} Evaluation:\")\n",
    "    \n",
    "    # get predictions on the testing set\n",
    "    y_pred = model.predict(X_test)\n",
    "    y_pred_proba = model.predict_proba(X_test)[:, 1]\n",
    "    \n",
    "    # display the predictions on the first 20 in testing set\n",
    "    print(\"Predictions on test set (first 20):\")\n",
    "    print(y_pred[:20])\n",
    "    \n",
    "    # display the true labels of the first 20 testing set\n",
    "    print(\"\\nTrue labels of test set (first 20):\")\n",
    "    print(y_test[:20].values)\n",
    "    \n",
    "    # calculate and print various performance metrics\n",
    "    accuracy = accuracy_score(y_test, y_pred)\n",
    "    precision = precision_score(y_test, y_pred)\n",
    "    recall = recall_score(y_test, y_pred)\n",
    "    f1 = f1_score(y_test, y_pred)\n",
    "    roc_auc = roc_auc_score(y_test, y_pred_proba)\n",
    "    \n",
    "    print(\"\\nPerformance Metrics:\")\n",
    "    print(f\"Accuracy: {accuracy:.4f}\")\n",
    "    print(f\"Precision: {precision:.4f}\")\n",
    "    print(f\"Recall: {recall:.4f}\")\n",
    "    print(f\"F1 Score: {f1:.4f}\")\n",
    "    print(f\"ROC AUC: {roc_auc:.4f}\")\n",
    "    \n",
    "    # cv score\n",
    "    cv_scores = cross_val_score(model, X_train, y_train, cv=5, scoring='roc_auc')\n",
    "    print(f\"\\nCross-validation ROC AUC: {cv_scores.mean():.4f} (+/- {cv_scores.std() * 2:.4f})\")\n",
    "    \n",
    "    # feature importance\n",
    "    if hasattr(model, 'coef_'):\n",
    "        feature_importance = pd.DataFrame({\n",
    "            'feature': X_train.columns,\n",
    "            'importance': abs(model.coef_[0]),\n",
    "            'coefficient': model.coef_[0]\n",
    "        }).sort_values('importance', ascending=False)\n",
    "        print(\"\\nTop 10 Important Features:\")\n",
    "        print(feature_importance.head(10))\n",
    "    \n",
    "    return {\n",
    "        'accuracy': accuracy,\n",
    "        'precision': precision,\n",
    "        'recall': recall,\n",
    "        'f1': f1,\n",
    "        'roc_auc': roc_auc,\n",
    "        'cv_scores': cv_scores,\n",
    "        'y_pred': y_pred\n",
    "    }"
   ]
  },
  {
   "cell_type": "code",
   "execution_count": 214,
   "metadata": {
    "id": "NZQbthy93bWM"
   },
   "outputs": [
    {
     "name": "stdout",
     "output_type": "stream",
     "text": [
      "\n",
      "All Features Model Evaluation:\n",
      "Predictions on test set (first 20):\n",
      "[1 0 0 1 1 0 1 0 1 0 1 0 1 0 1 1 1 0 1 1]\n",
      "\n",
      "True labels of test set (first 20):\n",
      "[1 0 0 1 1 0 1 0 1 0 1 0 1 1 1 1 1 1 0 0]\n",
      "\n",
      "Performance Metrics:\n",
      "Accuracy: 0.6721\n",
      "Precision: 0.6321\n",
      "Recall: 0.8229\n",
      "F1 Score: 0.7150\n",
      "ROC AUC: 0.6926\n",
      "\n",
      "Cross-validation ROC AUC: 0.6870 (+/- 0.0145)\n",
      "\n",
      "Top 10 Important Features:\n",
      "                                  feature  importance  coefficient\n",
      "12                               is_claim    2.288883    -2.288883\n",
      "11   log_video_comment_count_claim_interX    0.636679     0.636679\n",
      "10  log_video_download_count_claim_interX    0.568387    -0.568387\n",
      "7       log_video_view_count_claim_interX    0.566870     0.566870\n",
      "8       log_video_like_count_claim_interX    0.440505    -0.440505\n",
      "14               author_ban_status_banned    0.309601    -0.309601\n",
      "9      log_video_share_count_claim_interX    0.263973     0.263973\n",
      "13            author_ban_status_reviewing    0.185056    -0.185056\n",
      "6                 log_video_comment_count    0.167251    -0.167251\n",
      "2                    log_video_view_count    0.140118    -0.140118\n",
      "accuracy: 0.6721196868008948\n",
      "precision: 0.6320653341929938\n",
      "recall: 0.8228875209848909\n",
      "f1: 0.7149629269478547\n",
      "roc_auc: 0.6925595795733612\n",
      "cv_scores: [0.68449643 0.68718038 0.69336398 0.67474048 0.69505907]\n"
     ]
    }
   ],
   "source": [
    "# Use the logistic regression model to get predictions on the encoded testing set with All features model\n",
    "# Display the predictions on the encoded testing set\n",
    "# Display the true labels of the testing set\n",
    "# Get performance metrics\n",
    "results = evaluate_model(all_features_model, X_all_train, X_all_test, y_all_train, y_all_test, \"All Features Model\")\n",
    "\n",
    "# print everything except 'y_pred'\n",
    "for key, value in results.items():\n",
    "    if key != 'y_pred':\n",
    "        print(f\"{key}: {value}\")"
   ]
  },
  {
   "cell_type": "markdown",
   "metadata": {},
   "source": [
    "### **Task 4b. Interpret model coefficients**"
   ]
  },
  {
   "cell_type": "markdown",
   "metadata": {},
   "source": [
    "**Coefficient Analysis** \n",
    "- The is_claim coefficient is significant. This specifically suggest that claim related videos are strong associated with non-verified users. It also suggests opinions are more likely to be posted by verified creators whereas claims are more likely associated with unverified creators. The high coefficients of the claim interaction features further support the strong relationship between claim status and verification status. \n",
    "- log video coment count claim interaction indicates that as the log of video comment counts increase in the context of a claim it positively influences the likelihood of being verified. The more comments a claim receives the more likely the user is verified, despite the negative impact of being a claim overall.\n",
    "- log video download count claim interaction's negative coefficient suggests that for claims an increase in the number of downloads decreaseas the lieklihood of being verified. So unlike with comments, claims with more downloads are associated with unverified users.\n",
    "\n",
    "\n",
    "Overall the mixed impact of claims and engagement suggests that while generally reducing the likelihood of vering verified (as indicated by the is_claim coefficient) certain types of engagement with claims content can still have a positive impact on verification (eg comments and views)"
   ]
  },
  {
   "cell_type": "code",
   "execution_count": 211,
   "metadata": {},
   "outputs": [
    {
     "name": "stdout",
     "output_type": "stream",
     "text": [
      "[[1866 1712]\n",
      " [ 633 2941]]\n"
     ]
    },
    {
     "data": {
      "image/png": "[encoded data removed]",
      "text/plain": [
       "<Figure size 1000x800 with 2 Axes>"
      ]
     },
     "metadata": {},
     "output_type": "display_data"
    }
   ],
   "source": [
    "# compute values for confusion matrix\n",
    "from sklearn.metrics import confusion_matrix\n",
    "from matplotlib.colors import ListedColormap\n",
    "\n",
    "# use my predefined colors\n",
    "colors_subset = ListedColormap([\"#003f5c\", \"#ffa600\", \"#bc5090\", \"#ff6361\"])\n",
    "\n",
    "# extract y_pred from the results\n",
    "y_pred = results['y_pred']\n",
    "\n",
    "cm = confusion_matrix(y_all_test, y_pred)\n",
    "\n",
    "# Create display of confusion matrix\n",
    "print(cm)\n",
    "\n",
    "# Plot confusion matrix\n",
    "plt.figure(figsize=(10, 8))\n",
    "sns.heatmap(cm, annot=True, fmt='d', cmap=colors_subset)\n",
    "plt.title('Confusion Matrix')\n",
    "plt.ylabel('Actual')\n",
    "plt.xlabel('Predicted')\n",
    "\n",
    "# Display plot\n",
    "plt.show()"
   ]
  },
  {
   "cell_type": "markdown",
   "metadata": {},
   "source": [
    "**Confusion matrix report**\n",
    "- True negatives: 1866\n",
    "- True positives: 2941\n",
    "- False negatives: 633\n",
    "- False positives:  1712\n",
    "\n",
    "Since there are a high number of false positives, (1,712) the precision for predicting verified instances is likely to be low so when the model predicts a user is verified it will often be wrong\n",
    "\n",
    "The model correctly identifies 2,941 verified but misses 633 so its recall is high but not perfect.\n",
    "\n",
    "The large number of false positives to true negatives implies the model struggles to correctly identify unverified instances. I might suggest threshold tuning or weight class adjustment or using a more adavanced model to capture non linear relationships"
   ]
  },
  {
   "cell_type": "markdown",
   "metadata": {},
   "source": [
    "### **Task 4c. Model splitting**"
   ]
  },
  {
   "cell_type": "markdown",
   "metadata": {},
   "source": [
    "Given the overwhelming impact of is_claim data on the model it appears two models might be helpful. One for claims and one for opinions"
   ]
  },
  {
   "cell_type": "code",
   "execution_count": 174,
   "metadata": {},
   "outputs": [],
   "source": [
    "# create  a list of interaction terms to remove\n",
    "interaction_terms = [\n",
    "    'log_video_view_count_claim_interX',\n",
    "    'log_video_like_count_claim_interX',\n",
    "    'log_video_share_count_claim_interX',\n",
    "    'log_video_download_count_claim_interX',\n",
    "    'log_video_comment_count_claim_interX'\n",
    "]"
   ]
  },
  {
   "cell_type": "code",
   "execution_count": 175,
   "metadata": {},
   "outputs": [],
   "source": [
    "# remove interaction terms and 'is_claim' from the dataframe\n",
    "columns_to_keep = [col for col in scaled_df.columns if col not in interaction_terms and col != 'is_claim']\n",
    "\n",
    "# separate the data into claims and opinions\n",
    "claims_df = scaled_df[scaled_df['is_claim'] == 1][columns_to_keep]\n",
    "opinions_df = scaled_df[scaled_df['is_claim'] == 0][columns_to_keep]"
   ]
  },
  {
   "cell_type": "code",
   "execution_count": 183,
   "metadata": {},
   "outputs": [],
   "source": [
    "# function to split data, create and fit model\n",
    "from sklearn.utils.class_weight import compute_class_weight\n",
    "\n",
    "def create_and_fit_model(df, random_state=42):\n",
    "    X = df.drop('is_verified', axis=1)\n",
    "    y = df['is_verified']\n",
    "    X_train, X_test, y_train, y_test = train_test_split(X, y, test_size=0.2, random_state=random_state)\n",
    "    \n",
    "    # Compute class weights\n",
    "    class_weights = compute_class_weight('balanced', classes=np.unique(y_train), y=y_train)\n",
    "    class_weight_dict = dict(zip(np.unique(y_train), class_weights))\n",
    "    \n",
    "    # Create and fit the model with computed class weights\n",
    "    model = LogisticRegressionCV(cv=5, penalty='l2', solver='saga', random_state=random_state, \n",
    "                                 max_iter=10000, class_weight=class_weight_dict,\n",
    "                                 Cs=np.logspace(-4, 4, 20))\n",
    "    model.fit(X_train, y_train)\n",
    "    \n",
    "    return model, X_train, X_test, y_train, y_test"
   ]
  },
  {
   "cell_type": "code",
   "execution_count": 184,
   "metadata": {},
   "outputs": [],
   "source": [
    "# create and fit model for claims\n",
    "claims_model, X_claims_train, X_claims_test, y_claims_train, y_claims_test = create_and_fit_model(claims_df)"
   ]
  },
  {
   "cell_type": "code",
   "execution_count": 185,
   "metadata": {},
   "outputs": [],
   "source": [
    "# create and fit model for opinions\n",
    "opinions_model, X_opinions_train, X_opinions_test, y_opinions_train, y_opinions_test = create_and_fit_model(opinions_df)"
   ]
  },
  {
   "cell_type": "code",
   "execution_count": 187,
   "metadata": {},
   "outputs": [
    {
     "name": "stdout",
     "output_type": "stream",
     "text": [
      "\n",
      "Claims Model Evaluation:\n",
      "Predictions on test set (first 20):\n",
      "[1 1 1 1 1 1 1 1 1 0 0 0 1 1 0 0 1 1 0 1]\n",
      "\n",
      "True labels of test set (first 20):\n",
      "[0 0 0 0 0 0 1 0 1 0 0 0 0 0 0 0 0 0 0 1]\n",
      "\n",
      "Performance Metrics:\n",
      "Accuracy: 0.5142\n",
      "Precision: 0.2687\n",
      "Recall: 0.6040\n",
      "F1 Score: 0.3719\n",
      "ROC AUC: 0.5742\n",
      "\n",
      "Cross-validation ROC AUC: 0.5611 (+/- 0.0245)\n",
      "\n",
      "Top 10 Important Features:\n",
      "                       feature  importance\n",
      "8     author_ban_status_banned    0.177175\n",
      "7  author_ban_status_reviewing    0.099075\n",
      "6      log_video_comment_count    0.087148\n",
      "4        log_video_share_count    0.085841\n",
      "5     log_video_download_count    0.069002\n",
      "2         log_video_view_count    0.041357\n",
      "1     video_transcribed_length    0.011517\n",
      "3         log_video_like_count    0.010805\n",
      "0           video_duration_sec    0.003668\n"
     ]
    },
    {
     "data": {
      "text/plain": [
       "{'accuracy': 0.5141829804234919,\n",
       " 'precision': 0.26865671641791045,\n",
       " 'recall': 0.6040268456375839,\n",
       " 'f1': 0.371900826446281,\n",
       " 'roc_auc': 0.5741598420513615,\n",
       " 'cv_scores': array([0.55935103, 0.56314239, 0.56610799, 0.57736241, 0.53976939])}"
      ]
     },
     "execution_count": 187,
     "metadata": {},
     "output_type": "execute_result"
    }
   ],
   "source": [
    "# evaluate claims model\n",
    "evaluate_model(claims_model, X_claims_train, X_claims_test, y_claims_train, y_claims_test, \"Claims Model\")"
   ]
  },
  {
   "cell_type": "code",
   "execution_count": 192,
   "metadata": {},
   "outputs": [
    {
     "name": "stdout",
     "output_type": "stream",
     "text": [
      "Best parameters: {'C': 0.01, 'penalty': 'l1'}\n",
      "Logistic Regression with GridSearchCV:\n",
      "              precision    recall  f1-score   support\n",
      "\n",
      "           0       0.76      1.00      0.86      1907\n",
      "           1       0.00      0.00      0.00       596\n",
      "\n",
      "    accuracy                           0.76      2503\n",
      "   macro avg       0.38      0.50      0.43      2503\n",
      "weighted avg       0.58      0.76      0.66      2503\n",
      "\n"
     ]
    }
   ],
   "source": [
    "# Test whether GridSearchCV-tuned logistic regression on the claims model provides better results\n",
    "from sklearn.model_selection import GridSearchCV\n",
    "from sklearn.metrics import classification_report\n",
    "\n",
    "param_grid = {'C': [0.001, 0.01, 0.1, 1, 10, 100], 'penalty': ['l1', 'l2']}\n",
    "lr_grid = GridSearchCV(LogisticRegression(random_state=42, solver='liblinear'), param_grid, cv=5)\n",
    "lr_grid.fit(X_claims_train, y_claims_train)\n",
    "print(\"Best parameters:\", lr_grid.best_params_)\n",
    "y_pred_grid = lr_grid.predict(X_claims_test)\n",
    "print(\"Logistic Regression with GridSearchCV:\")\n",
    "print(classification_report(y_claims_test, y_pred_grid, zero_division=0))"
   ]
  },
  {
   "cell_type": "code",
   "execution_count": 188,
   "metadata": {},
   "outputs": [
    {
     "name": "stdout",
     "output_type": "stream",
     "text": [
      "\n",
      "Opinions Model Evaluation:\n",
      "Predictions on test set (first 20):\n",
      "[1 0 1 1 0 1 1 0 0 1 0 0 1 0 1 1 1 1 0 0]\n",
      "\n",
      "True labels of test set (first 20):\n",
      "[1 1 1 1 0 1 1 0 0 1 0 0 0 1 0 0 1 1 1 0]\n",
      "\n",
      "Performance Metrics:\n",
      "Accuracy: 0.5335\n",
      "Precision: 0.6582\n",
      "Recall: 0.5461\n",
      "F1 Score: 0.5969\n",
      "ROC AUC: 0.5298\n",
      "\n",
      "Cross-validation ROC AUC: 0.5261 (+/- 0.0069)\n",
      "\n",
      "Top 10 Important Features:\n",
      "                       feature  importance\n",
      "6      log_video_comment_count    0.161011\n",
      "2         log_video_view_count    0.107150\n",
      "4        log_video_share_count    0.101898\n",
      "8     author_ban_status_banned    0.099053\n",
      "3         log_video_like_count    0.094777\n",
      "0           video_duration_sec    0.047601\n",
      "7  author_ban_status_reviewing    0.024713\n",
      "1     video_transcribed_length    0.014148\n",
      "5     log_video_download_count    0.005730\n"
     ]
    },
    {
     "data": {
      "text/plain": [
       "{'accuracy': 0.5335483870967742,\n",
       " 'precision': 0.6581967213114754,\n",
       " 'recall': 0.5460727643658619,\n",
       " 'f1': 0.5969150715480394,\n",
       " 'roc_auc': 0.5298182373095692,\n",
       " 'cv_scores': array([0.52382796, 0.52061194, 0.5287826 , 0.52746947, 0.53002239])}"
      ]
     },
     "execution_count": 188,
     "metadata": {},
     "output_type": "execute_result"
    }
   ],
   "source": [
    "# evaluate opinion model\n",
    "evaluate_model(opinions_model, X_opinions_train, X_opinions_test, y_opinions_train, y_opinions_test, \"Opinions Model\")"
   ]
  },
  {
   "cell_type": "code",
   "execution_count": 191,
   "metadata": {},
   "outputs": [
    {
     "name": "stdout",
     "output_type": "stream",
     "text": [
      "Best parameters: {'C': 0.001, 'penalty': 'l1'}\n",
      "Logistic Regression with GridSearchCV:\n",
      "              precision    recall  f1-score   support\n",
      "\n",
      "           0       0.00      0.00      0.00      1709\n",
      "           1       0.63      1.00      0.77      2941\n",
      "\n",
      "    accuracy                           0.63      4650\n",
      "   macro avg       0.32      0.50      0.39      4650\n",
      "weighted avg       0.40      0.63      0.49      4650\n",
      "\n"
     ]
    }
   ],
   "source": [
    "# test whether GridSearchCV tuned logistic regression on the opinion model provides better results\n",
    "\n",
    "param_grid = {'C': [0.001, 0.01, 0.1, 1, 10, 100], 'penalty': ['l1', 'l2']}\n",
    "lr_grid = GridSearchCV(LogisticRegression(random_state=42, solver='liblinear'), param_grid, cv=5)\n",
    "lr_grid.fit(X_opinions_train, y_opinions_train)\n",
    "print(\"Best parameters:\", lr_grid.best_params_)\n",
    "y_pred_grid = lr_grid.predict(X_opinions_test)\n",
    "print(\"Logistic Regression with GridSearchCV:\")\n",
    "print(classification_report(y_opinions_test, y_pred_grid, zero_division=0))"
   ]
  },
  {
   "cell_type": "markdown",
   "metadata": {},
   "source": [
    "**Separate Modeling Conclusion** \n",
    "- Claims Model: This model has higher precision on unverified data 76% vs 63% but struggles with verified claims. The model is imbalanced in its predictions, favoring the majority class. Its high f1-score, of 86%, suggests the model is highly confident when predicting unverified claims, correctly identifying all unverified samples.\n",
    "\n",
    "- Opinions Model: The model has about the preciion on verified class as the over model 63% vs 63%.  It completely misses unverified opinions. This imbalance in performance needs to be addressed. In addition fo its precision it has a good f1-score (0.77), meaning the model predicts verified opinions confidently.\n",
    "\n",
    "- Next steps: Given their respective strengths and weaknesses an ensemble approach might be worth further investigation"
   ]
  },
  {
   "cell_type": "markdown",
   "metadata": {},
   "source": [
    "### **Task 5. Investigating Non-Linearity**"
   ]
  },
  {
   "cell_type": "code",
   "execution_count": 227,
   "metadata": {},
   "outputs": [],
   "source": [
    "# Try a Random Forest Classifier to test for non-linear relationships\n",
    "from sklearn.model_selection import StratifiedKFold\n",
    "from sklearn.metrics import balanced_accuracy_score\n",
    "\n",
    "def train_and_evaluate_rf(X_train, X_test, y_train, y_test, model_name=\"Random Forest\", **kwargs):\n",
    "    # initialize and fit\n",
    "    rf = RandomForestClassifier(random_state=42, **kwargs)\n",
    "    rf.fit(X_train, y_train)\n",
    "    \n",
    "    # stratified kfold cross-validation\n",
    "    cv = StratifiedKFold(n_splits=5, shuffle=True, random_state=42)\n",
    "    cv_scores = cross_val_score(rf, X_train, y_train, cv=cv, scoring='roc_auc')\n",
    "    \n",
    "    y_pred_rf = rf.predict(X_test)\n",
    "    y_pred_proba_rf = rf.predict_proba(X_test)[:, 1]\n",
    "    \n",
    "    test_accuracy = rf.score(X_test, y_test)\n",
    "    test_roc_auc = roc_auc_score(y_test, y_pred_proba_rf)\n",
    "    test_balanced_accuracy = balanced_accuracy_score(y_test, y_pred_rf)\n",
    "    \n",
    "    print(f\"\\n{model_name} Results:\")\n",
    "    print(f\"Cross-validation ROC AUC: {cv_scores.mean():.4f} (+/- {cv_scores.std() * 2:.4f})\")\n",
    "    print(f\"Test set accuracy: {test_accuracy:.4f}\")\n",
    "    print(f\"Test set ROC AUC: {test_roc_auc:.4f}\")\n",
    "    print(f\"Test set Balanced Accuracy: {test_balanced_accuracy:.4f}\")\n",
    "    print(\"\\nClassification Report:\")\n",
    "    print(classification_report(y_test, y_pred_rf))\n",
    "    \n",
    "    print(\"\\nPredicted class distribution:\")\n",
    "    print(pd.Series(y_pred_rf).value_counts(normalize=True))\n",
    "    \n",
    "    # feature importance\n",
    "    feature_importance = pd.DataFrame({\n",
    "        'feature': X_train.columns,\n",
    "        'importance': rf.feature_importances_\n",
    "    }).sort_values('importance', ascending=False)\n",
    "    \n",
    "    print(\"\\nTop 10 Important Features:\")\n",
    "    print(feature_importance.head(10))\n",
    "    \n",
    "    return rf, feature_importance"
   ]
  },
  {
   "cell_type": "code",
   "execution_count": 228,
   "metadata": {},
   "outputs": [
    {
     "name": "stdout",
     "output_type": "stream",
     "text": [
      "\n",
      "Random Forest Results:\n",
      "Cross-validation ROC AUC: 0.8699 (+/- 0.0072)\n",
      "Test set accuracy: 0.7183\n",
      "Test set ROC AUC: 0.8635\n",
      "Test set Balanced Accuracy: 0.7184\n",
      "\n",
      "Classification Report:\n",
      "              precision    recall  f1-score   support\n",
      "\n",
      "           0       0.82      0.56      0.66      3578\n",
      "           1       0.66      0.88      0.76      3574\n",
      "\n",
      "    accuracy                           0.72      7152\n",
      "   macro avg       0.74      0.72      0.71      7152\n",
      "weighted avg       0.74      0.72      0.71      7152\n",
      "\n",
      "\n",
      "Predicted class distribution:\n",
      "1    0.661214\n",
      "0    0.338786\n",
      "Name: proportion, dtype: float64\n",
      "\n",
      "Top 10 Important Features:\n",
      "                                  feature  importance\n",
      "9      log_video_share_count_claim_interX    0.137855\n",
      "8       log_video_like_count_claim_interX    0.114863\n",
      "7       log_video_view_count_claim_interX    0.100978\n",
      "2                    log_video_view_count    0.094511\n",
      "3                    log_video_like_count    0.081110\n",
      "10  log_video_download_count_claim_interX    0.074761\n",
      "12                               is_claim    0.073597\n",
      "4                   log_video_share_count    0.067554\n",
      "5                log_video_download_count    0.058813\n",
      "0                      video_duration_sec    0.050122\n"
     ]
    }
   ],
   "source": [
    "# call the Random Forest model \n",
    "rf_model, rf_feature_importance = train_and_evaluate_rf(X_all_train, X_all_test, y_all_train, y_all_test, n_estimators=100, max_depth=10, min_samples_split=5)"
   ]
  },
  {
   "cell_type": "markdown",
   "metadata": {},
   "source": [
    "**Random Forest Conclusion** \n",
    "- The Random Forest model significantly otperforms the Logistic Regression across multiple metrics including accuracy, precision, recall and ROC AUC.\n",
    "- The ROC AUC of 86.35% compared to the Logistic Regression ROC AUC of 69.2% suggest that the Random Forest captures more of the underlying patterns which might imply that the relationship between the selected features and verified status are non-linear. "
   ]
  },
  {
   "cell_type": "markdown",
   "metadata": {},
   "source": [
    "### **Task 6. Investigating The Upsampling Problem**"
   ]
  },
  {
   "cell_type": "code",
   "execution_count": 217,
   "metadata": {},
   "outputs": [],
   "source": [
    "def verify_data_split(X_train, X_test, y_train, y_test):\n",
    "    # 1. check for overlapping indices\n",
    "    overlap = X_train.index.intersection(X_test.index)\n",
    "    print(f\"Number of overlapping indices: {len(overlap)}\")\n",
    "    if len(overlap) > 0:\n",
    "        print(\"Warning: There are overlapping indices between train and test sets!\")\n",
    "\n",
    "    # 2. verify shapes\n",
    "    print(f\"Training set shape: {X_train.shape}\")\n",
    "    print(f\"Testing set shape: {X_test.shape}\")\n",
    "    print(f\"Training labels shape: {y_train.shape}\")\n",
    "    print(f\"Testing labels shape: {y_test.shape}\")\n",
    "\n",
    "    # 3. check for duplicate rows\n",
    "    train_duplicates = X_train.duplicated().sum()\n",
    "    test_duplicates = X_test.duplicated().sum()\n",
    "    print(f\"Number of duplicate rows in training set: {train_duplicates}\")\n",
    "    print(f\"Number of duplicate rows in testing set: {test_duplicates}\")\n",
    "\n",
    "    # 4. check for exact matches between train and test sets\n",
    "    exact_matches = pd.merge(X_test.drop_duplicates(), X_train.drop_duplicates(), how='inner').shape[0]\n",
    "\n",
    "    print(f\"Number of exact matches between train and test sets: {exact_matches}\")\n",
    "\n",
    "    # 5. verify label distribution\n",
    "    print(\"\\nLabel distribution in training set:\")\n",
    "    print(y_train.value_counts(normalize=True))\n",
    "    print(\"\\nLabel distribution in testing set:\")\n",
    "    print(y_test.value_counts(normalize=True))"
   ]
  },
  {
   "cell_type": "code",
   "execution_count": 218,
   "metadata": {},
   "outputs": [
    {
     "name": "stdout",
     "output_type": "stream",
     "text": [
      "Number of overlapping indices: 0\n",
      "Training set shape: (28607, 15)\n",
      "Testing set shape: (7152, 15)\n",
      "Training labels shape: (28607,)\n",
      "Testing labels shape: (7152,)\n",
      "Number of duplicate rows in training set: 13105\n",
      "Number of duplicate rows in testing set: 2443\n",
      "Number of exact matches between train and test sets: 1131\n",
      "\n",
      "Label distribution in training set:\n",
      "is_verified\n",
      "1    0.500052\n",
      "0    0.499948\n",
      "Name: proportion, dtype: float64\n",
      "\n",
      "Label distribution in testing set:\n",
      "is_verified\n",
      "0    0.50028\n",
      "1    0.49972\n",
      "Name: proportion, dtype: float64\n"
     ]
    }
   ],
   "source": [
    "# confirm training and test sets are properly separateed and there no data leakage between them\n",
    "verify_data_split(X_all_train, X_all_test, y_all_train, y_all_test)"
   ]
  },
  {
   "cell_type": "markdown",
   "metadata": {},
   "source": [
    "**Data Conclusion** The analysis of the overlap between the test and training set indicated by the 1,131 exact matches (~15.8% of the training set and ~4% of the test set). This is a form of data leakage that might be leading to over-optimistic views across perfromance metrics. \n",
    "\n",
    "Upon further investigation, this likely occured because the data was upsampled (creating synthetics across both test and training) before being split. \n",
    "\n",
    "**Alternative Approach** Going forward my alternative approach would be to first split, then upsample the training set (using SMOTE) to handle the class imbalance betewen verified and unverified class. The downside of this approach is it would leave us with a smaller amount of verified data in the test set. "
   ]
  },
  {
   "cell_type": "markdown",
   "metadata": {
    "id": "P6AlDDyhdzmG"
   },
   "source": [
    "### **Task 7. Conclusion**\n",
    "\n",
    "1. Key takeaways from this project?\n",
    "- Both Logistic Regression and Random Forest models identify is_claim and interactive terms like log video share count claim interaction as important, suggesting that claim status has a strong relationship with verification status.\n",
    "- The importance of these features vary however between the two models implying that the relationships are not strictly linear\n",
    "- Its worth noting the Random Forest models performance is quite high and given they can tend to overfit\n",
    "- One possible reason for overoptimistic model performance could be the fact that there are 1,131 exact matches across the test and training set.\n",
    "- While separating the data by claims status and running a logisitc regression generated slightly better precision results for the claims data relative to the all data model it was about the same for opinion data.\n",
    "- NLP on the transcription text might be helpful \n",
    "\n",
    "2. Results that should be presented from this project?\n",
    "- The heat map correlation matrices should be shown because they succinctly capture the multicollinearity across the features available for use in a logistic regression model.\n",
    "- The confusion matrix should be used to highlight the high number of false positives and a logistic regressions inability to predict verified status reliably.\n",
    "- The classification and performance metrics of both the logistic regression and the random forest model should be shown as together they indicate the potential limits of linear models in explaining the relationship between the dataset features and verification status\n",
    "- The overlap due to upsampling should be shown to highlight the potential data leakage due to exact matches acrosss test and training sets and the impact it might have on the model results. "
   ]
  },
  {
   "cell_type": "markdown",
   "metadata": {},
   "source": [
    "**Congratulations!** You've completed this lab. However, you may not notice a green check mark next to this item on Coursera's platform. Please continue your progress regardless of the check mark. Just click on the \"save\" icon at the top of this notebook to ensure your work has been logged. "
   ]
  }
 ],
 "metadata": {
  "colab": {
   "provenance": []
  },
  "kernelspec": {
   "display_name": "Python 3 (ipykernel)",
   "language": "python",
   "name": "python3"
  },
  "language_info": {
   "codemirror_mode": {
    "name": "ipython",
    "version": 3
   },
   "file_extension": ".py",
   "mimetype": "text/x-python",
   "name": "python",
   "nbconvert_exporter": "python",
   "pygments_lexer": "ipython3",
   "version": "3.11.4"
  }
 },
 "nbformat": 4,
 "nbformat_minor": 4
}
